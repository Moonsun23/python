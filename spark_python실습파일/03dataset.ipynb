{
 "cells": [
  {
   "cell_type": "markdown",
   "id": "dccc677a-5e94-4f86-8a41-dbc4ee9b3f1a",
   "metadata": {},
   "source": [
    "## 서울 요식업 데이터 EDA"
   ]
  },
  {
   "cell_type": "code",
   "execution_count": 1,
   "id": "cb23ec3f-869e-49f7-bd6a-fd135e0cdb8a",
   "metadata": {},
   "outputs": [],
   "source": [
    "from pyspark.sql.types import StringType, IntegerType"
   ]
  },
  {
   "cell_type": "code",
   "execution_count": 27,
   "id": "dd7d6873-8201-4f57-a11d-a4f27fa4c3d7",
   "metadata": {
    "scrolled": true
   },
   "outputs": [
    {
     "name": "stdout",
     "output_type": "stream",
     "text": [
      "root\n",
      " |-- 개방자치단체코드: integer (nullable = true)\n",
      " |-- 관리번호: string (nullable = true)\n",
      " |-- 인허가일자: integer (nullable = true)\n",
      " |-- 인허가취소일자: string (nullable = true)\n",
      " |-- 영업상태코드: integer (nullable = true)\n",
      " |-- 영업상태명: string (nullable = true)\n",
      " |-- 상세영업상태코드: integer (nullable = true)\n",
      " |-- 상세영업상태명: string (nullable = true)\n",
      " |-- 폐업일자: integer (nullable = true)\n",
      " |-- 휴업시작일자: string (nullable = true)\n",
      " |-- 휴업종료일자: string (nullable = true)\n",
      " |-- 재개업일자: string (nullable = true)\n",
      " |-- 전화번호: string (nullable = true)\n",
      " |-- 소재지면적: double (nullable = true)\n",
      " |-- 소재지우편번호: string (nullable = true)\n",
      " |-- 지번주소: string (nullable = true)\n",
      " |-- 도로명주소: string (nullable = true)\n",
      " |-- 도로명우편번호: string (nullable = true)\n",
      " |-- 사업장명: string (nullable = true)\n",
      " |-- 최종수정일자: string (nullable = true)\n",
      " |-- 데이터갱신구분: string (nullable = true)\n",
      " |-- 데이터갱신일자: string (nullable = true)\n",
      " |-- 업태구분명: string (nullable = true)\n",
      " |-- 좌표정보(X): double (nullable = true)\n",
      " |-- 좌표정보(Y): string (nullable = true)\n",
      " |-- 위생업태명: string (nullable = true)\n",
      " |-- 남성종사자수: integer (nullable = true)\n",
      " |-- 여성종사자수: string (nullable = true)\n",
      " |-- 영업장주변구분명: string (nullable = true)\n",
      " |-- 등급구분명: string (nullable = true)\n",
      " |-- 급수시설구분명: string (nullable = true)\n",
      " |-- 총인원: string (nullable = true)\n",
      " |-- 본사종업원수: integer (nullable = true)\n",
      " |-- 공장사무직종업원수: integer (nullable = true)\n",
      " |-- 공장판매직종업원수: integer (nullable = true)\n",
      " |-- 공장생산직종업원수: integer (nullable = true)\n",
      " |-- 건물소유구분명: string (nullable = true)\n",
      " |-- 보증액: integer (nullable = true)\n",
      " |-- 월세액: string (nullable = true)\n",
      " |-- 다중이용업소여부: string (nullable = true)\n",
      " |-- 시설총규모: double (nullable = true)\n",
      " |-- 전통업소지정번호: string (nullable = true)\n",
      " |-- 전통업소주된음식: string (nullable = true)\n",
      " |-- 홈페이지: string (nullable = true)\n",
      "\n"
     ]
    }
   ],
   "source": [
    "seoulfood = spark.read.csv('data/seoulfood-full.csv', header = True, inferSchema=True) # encoding='euc-kr' 해주면 한글로 바뀌지만 나는 파일 자체를 UTF-8로 바꿔줌\n",
    "seoulfood.printSchema()"
   ]
  },
  {
   "cell_type": "code",
   "execution_count": 28,
   "id": "20f53fe8-1bd2-400f-9535-6905b41e4639",
   "metadata": {
    "collapsed": true,
    "jupyter": {
     "outputs_hidden": true
    },
    "scrolled": true
   },
   "outputs": [
    {
     "data": {
      "text/plain": [
       "['개방자치단체코드',\n",
       " '관리번호',\n",
       " '인허가일자',\n",
       " '인허가취소일자',\n",
       " '영업상태코드',\n",
       " '영업상태명',\n",
       " '상세영업상태코드',\n",
       " '상세영업상태명',\n",
       " '폐업일자',\n",
       " '휴업시작일자',\n",
       " '휴업종료일자',\n",
       " '재개업일자',\n",
       " '전화번호',\n",
       " '소재지면적',\n",
       " '소재지우편번호',\n",
       " '지번주소',\n",
       " '도로명주소',\n",
       " '도로명우편번호',\n",
       " '사업장명',\n",
       " '최종수정일자',\n",
       " '데이터갱신구분',\n",
       " '데이터갱신일자',\n",
       " '업태구분명',\n",
       " '좌표정보(X)',\n",
       " '좌표정보(Y)',\n",
       " '위생업태명',\n",
       " '남성종사자수',\n",
       " '여성종사자수',\n",
       " '영업장주변구분명',\n",
       " '등급구분명',\n",
       " '급수시설구분명',\n",
       " '총인원',\n",
       " '본사종업원수',\n",
       " '공장사무직종업원수',\n",
       " '공장판매직종업원수',\n",
       " '공장생산직종업원수',\n",
       " '건물소유구분명',\n",
       " '보증액',\n",
       " '월세액',\n",
       " '다중이용업소여부',\n",
       " '시설총규모',\n",
       " '전통업소지정번호',\n",
       " '전통업소주된음식',\n",
       " '홈페이지']"
      ]
     },
     "execution_count": 28,
     "metadata": {},
     "output_type": "execute_result"
    }
   ],
   "source": [
    "seoulfood.columns"
   ]
  },
  {
   "cell_type": "code",
   "execution_count": 29,
   "id": "64281e08-e030-42fe-8a9b-0a9435fc9135",
   "metadata": {},
   "outputs": [
    {
     "data": {
      "text/plain": [
       "['인허가일자', '영업상태명', '도로명주소', '사업장명', '업태구분명', '좌표정보(X)', '좌표정보(Y)']"
      ]
     },
     "execution_count": 29,
     "metadata": {},
     "output_type": "execute_result"
    }
   ],
   "source": [
    "sf = seoulfood.select('인허가일자','영업상태명','도로명주소','사업장명','업태구분명','좌표정보(X)','좌표정보(Y)')\n",
    "sf.columns"
   ]
  },
  {
   "cell_type": "code",
   "execution_count": 31,
   "id": "e60371f3-e02c-44a9-bfc7-d33a02031488",
   "metadata": {
    "collapsed": true,
    "jupyter": {
     "outputs_hidden": true
    }
   },
   "outputs": [
    {
     "name": "stdout",
     "output_type": "stream",
     "text": [
      "+----------+----------+---------------------------------+---------------------+------------+----------------+----------------+\n",
      "|인허가일자|영업상태명|                       도로명주소|             사업장명|  업태구분명|     좌표정보(X)|     좌표정보(Y)|\n",
      "+----------+----------+---------------------------------+---------------------+------------+----------------+----------------+\n",
      "|  20201229| 영업/정상|  서울특별시 중구 청계천로 400...|  통불 이마트청계천점|일반조리판매|201823.908977364|452076.818664092|\n",
      "|  20200713| 영업/정상|  서울특별시 성북구 길음로 103...|  씨유 길음푸르지오점|      편의점|201517.385329678|456504.561867278|\n",
      "|  20200713| 영업/정상|서울특별시 송파구 위례성대로 6...|스타벅스 몽촌토성역점|      커피숍|209929.574783236|446085.121305444|\n",
      "|  20200713| 영업/정상|서울특별시 동대문구 전농로16길...|         Min's coffee|      커피숍|205263.826418987|452869.992526477|\n",
      "|  20200713| 영업/정상| 서울특별시 강북구 삼양로87길 ...|             탑브릭스|일반조리판매|201292.010942271|459312.320007983|\n",
      "+----------+----------+---------------------------------+---------------------+------------+----------------+----------------+\n",
      "only showing top 5 rows\n",
      "\n"
     ]
    }
   ],
   "source": [
    "sf.show(5)"
   ]
  },
  {
   "cell_type": "code",
   "execution_count": 38,
   "id": "48379452-4114-42b4-aa54-f4bafbc826dc",
   "metadata": {},
   "outputs": [],
   "source": [
    "import pyspark.sql.functions as F"
   ]
  },
  {
   "cell_type": "code",
   "execution_count": 41,
   "id": "79fee0bb-685b-4efb-afc3-e9deba9c9f19",
   "metadata": {},
   "outputs": [
    {
     "name": "stdout",
     "output_type": "stream",
     "text": [
      "+---------------+-----+\n",
      "|     업태구분명|count|\n",
      "+---------------+-----+\n",
      "|         커피숍|28646|\n",
      "|   일반조리판매|19076|\n",
      "|           다방|17717|\n",
      "|기타 휴게음식점|15778|\n",
      "|         편의점| 9761|\n",
      "|         과자점| 8678|\n",
      "|     패스트푸드| 7853|\n",
      "|         백화점| 2791|\n",
      "|       푸드트럭|  974|\n",
      "|     아이스크림|  464|\n",
      "|     철도역구내|  451|\n",
      "|       전통찻집|  351|\n",
      "|         떡카페|  147|\n",
      "|       키즈카페|  137|\n",
      "|       관광호텔|   80|\n",
      "|         유원지|   60|\n",
      "|           극장|   22|\n",
      "|           공항|   18|\n",
      "|       고속도로|    9|\n",
      "|           기타|    2|\n",
      "|           한식|    2|\n",
      "|         룸살롱|    1|\n",
      "|         ?蓉?점|    1|\n",
      "|   김밥(도시락)|    1|\n",
      "|      호프/통닭|    1|\n",
      "|   ?球北떳?판매|    1|\n",
      "|       단란주점|    1|\n",
      "+---------------+-----+\n",
      "\n"
     ]
    }
   ],
   "source": [
    "### 음식점 종류 요약\n",
    "sf.select('업태구분명').where(F.length(sf.업태구분명) <= 15)\\\n",
    "    .groupBy('업태구분명').count()\\\n",
    "    .orderBy('count', ascending=False).show(30)"
   ]
  },
  {
   "cell_type": "code",
   "execution_count": 40,
   "id": "6fb239a0-1bf0-4a76-b0ec-26eee7a8247d",
   "metadata": {},
   "outputs": [
    {
     "name": "stdout",
     "output_type": "stream",
     "text": [
      "+----------+-----+\n",
      "|영업상태명|count|\n",
      "+----------+-----+\n",
      "| 영업/정상|37347|\n",
      "|      폐업|75687|\n",
      "+----------+-----+\n",
      "\n"
     ]
    }
   ],
   "source": [
    "### 영업상태 요약\n",
    "sf.select(['영업상태명']).groupBy('영업상태명').count().show()"
   ]
  },
  {
   "cell_type": "code",
   "execution_count": 43,
   "id": "658c823a-8b06-4abd-b6d3-bd889f703efe",
   "metadata": {},
   "outputs": [
    {
     "name": "stdout",
     "output_type": "stream",
     "text": [
      "+-----------------------+-----+\n",
      "|               사업장명|count|\n",
      "+-----------------------+-----+\n",
      "|                 마이빈|   59|\n",
      "|                 이디야|   58|\n",
      "|             요거프레소|   55|\n",
      "|               커피마마|   47|\n",
      "|             이디야커피|   47|\n",
      "|               커피나무|   39|\n",
      "|               카페베네|   39|\n",
      "|               카페제이|   34|\n",
      "|                 카페큐|   33|\n",
      "|               커피크루|   31|\n",
      "|               토프레소|   29|\n",
      "|               탐앤탐스|   28|\n",
      "|             할리스커피|   27|\n",
      "|           투썸플레이스|   26|\n",
      "|               커피베이|   24|\n",
      "|                카페 큐|   24|\n",
      "|(주)커피빈코리아 행사점|   23|\n",
      "|                 커피집|   23|\n",
      "|                   쥬씨|   22|\n",
      "|                 더카페|   21|\n",
      "+-----------------------+-----+\n",
      "only showing top 20 rows\n",
      "\n"
     ]
    }
   ],
   "source": [
    "### 커피숍 종류는 몇개나?\n",
    "sf.select('업태구분명', '사업장명').where(sf.업태구분명 == '커피숍').groupBy('사업장명').count().orderBy('count', ascending=False).show()"
   ]
  },
  {
   "cell_type": "code",
   "execution_count": 44,
   "id": "5f49c8f3-a398-4528-b359-793112acbfaa",
   "metadata": {},
   "outputs": [
    {
     "name": "stdout",
     "output_type": "stream",
     "text": [
      "+--------+-----+\n",
      "|사업장명|count|\n",
      "+--------+-----+\n",
      "|스타벅스|  556|\n",
      "|투썸플레|  283|\n",
      "|이디야커|  238|\n",
      "|  (주)커|  226|\n",
      "|커피베이|  220|\n",
      "| 이디야 |  203|\n",
      "|메가엠지|  177|\n",
      "|요거프레|  167|\n",
      "|엔제리너|  164|\n",
      "|탐앤탐스|  160|\n",
      "|할리스커|  135|\n",
      "|카페베네|  133|\n",
      "|컴포즈커|  109|\n",
      "|파스쿠찌|  102|\n",
      "|커피나무|   99|\n",
      "|    cafe|   95|\n",
      "|    Cafe|   95|\n",
      "|토프레소|   91|\n",
      "| 빽다방 |   91|\n",
      "|커피마마|   73|\n",
      "+--------+-----+\n",
      "only showing top 20 rows\n",
      "\n"
     ]
    }
   ],
   "source": [
    "### 커피숍 종류는 몇개나?\n",
    "sf.select('업태구분명', '사업장명').where(sf.업태구분명 == '커피숍')\\\n",
    "    .groupBy(F.substring(sf.사업장명,0,4).alias('사업장명')).count().orderBy('count', ascending=False).show()"
   ]
  },
  {
   "cell_type": "code",
   "execution_count": 46,
   "id": "a09ef1e0-d771-48ee-8f94-bcc6d05beaa3",
   "metadata": {},
   "outputs": [
    {
     "name": "stdout",
     "output_type": "stream",
     "text": [
      "+----------------+-----+\n",
      "|        사업장명|count|\n",
      "+----------------+-----+\n",
      "|            카페|  716|\n",
      "|        스타벅스|  325|\n",
      "|          이디야|  261|\n",
      "|    투썸플레이스|  224|\n",
      "|(주)커피빈코리아|  169|\n",
      "|        커피베이|  157|\n",
      "|  메가엠지씨커피|  154|\n",
      "|      이디야커피|  144|\n",
      "|      요거프레소|  131|\n",
      "|        탐앤탐스|  117|\n",
      "|            공차|  116|\n",
      "|      할리스커피|  101|\n",
      "|            커피|   99|\n",
      "|          빽다방|   97|\n",
      "|      엔제리너스|   94|\n",
      "|      컴포즈커피|   89|\n",
      "|        카페베네|   88|\n",
      "|            Cafe|   84|\n",
      "|            쥬씨|   82|\n",
      "|    스타벅스커피|   78|\n",
      "+----------------+-----+\n",
      "only showing top 20 rows\n",
      "\n"
     ]
    }
   ],
   "source": [
    "### 커피숍 종류는 몇개나?\n",
    "sf.select('업태구분명', '사업장명').where(sf.업태구분명 == '커피숍')\\\n",
    "    .groupBy(F.split(sf.사업장명,' ').alias('사업장명')).count().orderBy('count', ascending=False).show()"
   ]
  },
  {
   "cell_type": "code",
   "execution_count": 48,
   "id": "4e7771ef-5cbf-4b62-868f-3f4c74058c43",
   "metadata": {},
   "outputs": [
    {
     "name": "stdout",
     "output_type": "stream",
     "text": [
      "+--------+-----+\n",
      "|    구별|count|\n",
      "+--------+-----+\n",
      "|  강남구|  100|\n",
      "|    중구|   64|\n",
      "|    null|   59|\n",
      "|  서초구|   55|\n",
      "|영등포구|   44|\n",
      "|  종로구|   44|\n",
      "|  마포구|   36|\n",
      "|  송파구|   34|\n",
      "|서대문구|   24|\n",
      "|  용산구|   24|\n",
      "+--------+-----+\n",
      "only showing top 10 rows\n",
      "\n"
     ]
    }
   ],
   "source": [
    "### 구별 스타벅스는 몇 개나? \n",
    "sf.select('업태구분명', '도로명주소', '사업장명')\\\n",
    "    .where(sf.사업장명.like('%스타벅스%'))\\\n",
    "    .groupBy(F.split(sf.도로명주소, ' ')[1].alias('구별'))\\\n",
    "    .count().orderBy('count', ascending=False).show(10)"
   ]
  },
  {
   "cell_type": "code",
   "execution_count": 49,
   "id": "14fcfc66-e5a5-4c53-9065-f732289180d6",
   "metadata": {},
   "outputs": [
    {
     "name": "stdout",
     "output_type": "stream",
     "text": [
      "+--------+-----+\n",
      "|    구별|count|\n",
      "+--------+-----+\n",
      "|  강남구|  100|\n",
      "|    중구|   64|\n",
      "|  서초구|   55|\n",
      "|영등포구|   44|\n",
      "|  종로구|   44|\n",
      "|  마포구|   36|\n",
      "|  송파구|   34|\n",
      "|  용산구|   24|\n",
      "|서대문구|   24|\n",
      "|  강서구|   21|\n",
      "+--------+-----+\n",
      "only showing top 10 rows\n",
      "\n"
     ]
    }
   ],
   "source": [
    "### 구별 스타벅스는 몇 개나? \n",
    "sf.select('업태구분명', '도로명주소', '사업장명')\\\n",
    "    .where(sf.사업장명.like('%스타벅스%'))\\\n",
    "    .where(sf.도로명주소 != '')\\\n",
    "    .groupBy(F.split(sf.도로명주소, ' ')[1].alias('구별'))\\\n",
    "    .count().orderBy('count', ascending=False).show(10)"
   ]
  },
  {
   "cell_type": "code",
   "execution_count": null,
   "id": "06feffdc-3907-4b92-a4fb-20bd61f745b5",
   "metadata": {},
   "outputs": [],
   "source": []
  },
  {
   "cell_type": "code",
   "execution_count": null,
   "id": "0ecad2ff-0c24-43d5-b758-21784f78b89d",
   "metadata": {},
   "outputs": [],
   "source": []
  },
  {
   "cell_type": "code",
   "execution_count": null,
   "id": "ad16b206-d8fc-4746-aeca-501ca488f92d",
   "metadata": {},
   "outputs": [],
   "source": []
  },
  {
   "cell_type": "code",
   "execution_count": null,
   "id": "b42d29c2-fcb3-4690-aca6-41c6bce8dd84",
   "metadata": {},
   "outputs": [],
   "source": []
  },
  {
   "cell_type": "code",
   "execution_count": null,
   "id": "98337a31-7896-46bc-b3e2-76741e77a9dc",
   "metadata": {},
   "outputs": [],
   "source": []
  },
  {
   "cell_type": "code",
   "execution_count": null,
   "id": "255f0033-2952-4291-804a-841df5058b81",
   "metadata": {},
   "outputs": [],
   "source": []
  },
  {
   "cell_type": "code",
   "execution_count": null,
   "id": "3cf88bb6-ebe5-454b-9692-2adfddbcd37b",
   "metadata": {},
   "outputs": [],
   "source": []
  },
  {
   "cell_type": "code",
   "execution_count": null,
   "id": "664e884e-3e74-462e-9a39-e18cb685e11e",
   "metadata": {},
   "outputs": [],
   "source": []
  },
  {
   "cell_type": "code",
   "execution_count": null,
   "id": "a9351525-03ef-4cef-8af8-6f8734417892",
   "metadata": {},
   "outputs": [],
   "source": []
  }
 ],
 "metadata": {
  "kernelspec": {
   "display_name": "Python 3 (ipykernel)",
   "language": "python",
   "name": "python3"
  },
  "language_info": {
   "codemirror_mode": {
    "name": "ipython",
    "version": 3
   },
   "file_extension": ".py",
   "mimetype": "text/x-python",
   "name": "python",
   "nbconvert_exporter": "python",
   "pygments_lexer": "ipython3",
   "version": "3.10.12"
  }
 },
 "nbformat": 4,
 "nbformat_minor": 5
}

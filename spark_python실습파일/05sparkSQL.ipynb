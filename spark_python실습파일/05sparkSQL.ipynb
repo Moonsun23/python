{
 "cells": [
  {
   "cell_type": "markdown",
   "id": "1f011913-1574-4fc6-b84d-174b21a3b73e",
   "metadata": {},
   "source": [
    "### SparkSQL\n",
    "+ 스파크 데이터프레임에 저장된 데이터들을 SQL 문법을 이용해서\n",
    "탐색할 수 있도록 해 줌\n",
    "+ spark.sql() 함수 사용\n",
    "+ OLTP 보다는 OLAP 처리에 적합"
   ]
  },
  {
   "cell_type": "code",
   "execution_count": 1,
   "id": "f57d078d-5254-44b8-9ecd-9cd73942d82d",
   "metadata": {},
   "outputs": [],
   "source": [
    "# sparkSQL을 위한 스파크 세션 생성\n",
    "spark = SparkSession.builder.master('app').appName('sparkSQL').getOrCreate()"
   ]
  },
  {
   "cell_type": "code",
   "execution_count": 2,
   "id": "b7fffb7d-945e-4b8d-a1b1-4f9c0c80532b",
   "metadata": {},
   "outputs": [],
   "source": [
    "emp = spark.read.csv('data/employees.csv', header = True, inferSchema=True)\n",
    "dept = spark.read.csv('data/departments.csv', header = True, inferSchema=True)"
   ]
  },
  {
   "cell_type": "code",
   "execution_count": 3,
   "id": "84f079db-c2e0-496d-bf5a-f83e685e8096",
   "metadata": {},
   "outputs": [],
   "source": [
    "# SQL사용을 위해 View 객체 생성\n",
    "# 객체명.createOrReplaceTempView(뷰이름)\n",
    "EMP = emp.createOrReplaceTempView('EMP')\n",
    "DEPT = dept.createOrReplaceTempView('DEPT')"
   ]
  },
  {
   "cell_type": "code",
   "execution_count": 17,
   "id": "300ae6ed-6afc-48d4-96f9-cc6bbad316b0",
   "metadata": {},
   "outputs": [
    {
     "name": "stdout",
     "output_type": "stream",
     "text": [
      "+-----------+----------+---------+--------+------------+----------+-------+-------+--------------+----------+-------------+\n",
      "|EMPLOYEE_ID|FIRST_NAME|LAST_NAME|   EMAIL|PHONE_NUMBER| HIRE_DATE| JOB_ID| SALARY|COMMISSION_PCT|MANAGER_ID|DEPARTMENT_ID|\n",
      "+-----------+----------+---------+--------+------------+----------+-------+-------+--------------+----------+-------------+\n",
      "|        100|    Steven|     King|   SKING|515.123.4567|2003-06-17|AD_PRES|24000.0|          null|      null|           90|\n",
      "|        101|     Neena|  Kochhar|NKOCHHAR|515.123.4568|2005-09-21|  AD_VP|17000.0|          null|       100|           90|\n",
      "|        102|       Lex|  De Haan| LDEHAAN|515.123.4569|2001-01-13|  AD_VP|17000.0|          null|       100|           90|\n",
      "|        103| Alexander|   Hunold| AHUNOLD|590.423.4567|2006-01-03|IT_PROG| 9000.0|          null|       102|           60|\n",
      "|        104|     Bruce|    Ernst|  BERNST|590.423.4568|2007-05-21|IT_PROG| 6000.0|          null|       103|           60|\n",
      "+-----------+----------+---------+--------+------------+----------+-------+-------+--------------+----------+-------------+\n",
      "only showing top 5 rows\n",
      "\n"
     ]
    }
   ],
   "source": [
    "sql = 'select * from EMP'\n",
    "spark.sql(sql).show(5)"
   ]
  },
  {
   "cell_type": "code",
   "execution_count": 6,
   "id": "3246e054-d863-472b-8889-2445d0d3bebe",
   "metadata": {},
   "outputs": [
    {
     "name": "stdout",
     "output_type": "stream",
     "text": [
      "+-------------+---------------+----------+-----------+\n",
      "|DEPARTMENT_ID|DEPARTMENT_NAME|MANAGER_ID|LOCATION_ID|\n",
      "+-------------+---------------+----------+-----------+\n",
      "|           10| Administration|       200|       1700|\n",
      "|           20|      Marketing|       201|       1800|\n",
      "|           30|     Purchasing|       114|       1700|\n",
      "|           40|Human Resources|       203|       2400|\n",
      "|           50|       Shipping|       121|       1500|\n",
      "+-------------+---------------+----------+-----------+\n",
      "only showing top 5 rows\n",
      "\n"
     ]
    }
   ],
   "source": [
    "sql = 'select * from DEPT'\n",
    "spark.sql(sql).show(5)"
   ]
  },
  {
   "cell_type": "code",
   "execution_count": 28,
   "id": "066eb5d9-0d58-4dba-9cad-a7b61d021c83",
   "metadata": {},
   "outputs": [
    {
     "name": "stdout",
     "output_type": "stream",
     "text": [
      "+-----------+-----------+----------+\n",
      "| FIRST_NAME|  LAST_NAME| HIRE_DATE|\n",
      "+-----------+-----------+----------+\n",
      "|      Valli|  Pataballa|2006-02-05|\n",
      "|       John|        Seo|2006-02-12|\n",
      "|       Jean|     Fleaur|2006-02-23|\n",
      "|Jose Manuel|      Urman|2006-03-07|\n",
      "|    Randall|      Matos|2006-03-15|\n",
      "|   Harrison|      Bloom|2006-03-23|\n",
      "|   Jonathon|     Taylor|2006-03-24|\n",
      "|Christopher|      Olsen|2006-03-30|\n",
      "|     Joshua|      Patel|2006-04-06|\n",
      "|       Jack| Livingston|2006-04-23|\n",
      "|      Alana|      Walsh|2006-04-24|\n",
      "|      Kevin|     Feeney|2006-05-23|\n",
      "|      Julia|  Dellinger|2006-06-24|\n",
      "|     Samuel|     McCain|2006-07-01|\n",
      "|      Peter|     Vargas|2006-07-09|\n",
      "|    Timothy|      Gates|2006-07-11|\n",
      "|    Michael|     Rogers|2006-08-26|\n",
      "|      Irene|Mikkilineni|2006-09-28|\n",
      "|     Sarath|     Sewall|2006-11-03|\n",
      "|        Guy|     Himuro|2006-11-15|\n",
      "+-----------+-----------+----------+\n",
      "\n"
     ]
    }
   ],
   "source": [
    "# 2006-02-05 부터 2006-11-15 사이에 고용된 사원조회\n",
    "sql = '''\n",
    "select FIRST_NAME, LAST_NAME, HIRE_DATE from EMP \n",
    "where HIRE_DATE between '2006-02-05' and '2006-11-15'\n",
    "order by HIRE_DATE\n",
    "'''\n",
    "spark.sql(sql).show(5)"
   ]
  },
  {
   "cell_type": "code",
   "execution_count": 29,
   "id": "5c0b5acd-c1b5-4a3c-8abe-25cb9d882fd4",
   "metadata": {},
   "outputs": [
    {
     "name": "stdout",
     "output_type": "stream",
     "text": [
      "+----------+---+\n",
      "|    JOB_ID|cnt|\n",
      "+----------+---+\n",
      "|    SA_REP| 30|\n",
      "|  SH_CLERK| 20|\n",
      "|  ST_CLERK| 20|\n",
      "|FI_ACCOUNT|  5|\n",
      "|  PU_CLERK|  5|\n",
      "|    ST_MAN|  5|\n",
      "|   IT_PROG|  5|\n",
      "|    SA_MAN|  5|\n",
      "|     AD_VP|  2|\n",
      "|    MK_MAN|  1|\n",
      "|    FI_MGR|  1|\n",
      "|AC_ACCOUNT|  1|\n",
      "|    MK_REP|  1|\n",
      "|    HR_REP|  1|\n",
      "|    AC_MGR|  1|\n",
      "|    PU_MAN|  1|\n",
      "|   AD_PRES|  1|\n",
      "|    PR_REP|  1|\n",
      "|   AD_ASST|  1|\n",
      "+----------+---+\n",
      "\n"
     ]
    }
   ],
   "source": [
    "# 직책별 사원수 조회 후 사원수 순으로 내림차순 정렬\n",
    "sql = \"\"\"\n",
    "SELECT JOB_ID, COUNT(*) cnt\n",
    "FROM EMP\n",
    "GROUP BY JOB_ID\n",
    "ORDER BY cnt DESC\n",
    "\"\"\"\n",
    "spark.sql(sql).show()"
   ]
  },
  {
   "cell_type": "code",
   "execution_count": 25,
   "id": "ec7e3e71-903a-4b7c-b6fd-7d768200c36c",
   "metadata": {},
   "outputs": [
    {
     "name": "stdout",
     "output_type": "stream",
     "text": [
      "+---------+------+\n",
      "|LAST_NAME|SALARY|\n",
      "+---------+------+\n",
      "|    Weiss|8000.0|\n",
      "|    Fripp|8200.0|\n",
      "| Kaufling|7900.0|\n",
      "|  Vollman|6500.0|\n",
      "|  Mourgos|5800.0|\n",
      "|      Fay|6000.0|\n",
      "+---------+------+\n",
      "\n"
     ]
    }
   ],
   "source": [
    "# 20번 또는 50번 부서에 근무하며, \n",
    "#급여가 5000 ~ 12,000 사이인 사원들의 \n",
    "#LAST_NAME 및 급여를 조회하세요\n",
    "\n",
    "sql = \"\"\"\n",
    "SELECT LAST_NAME, SALARY\n",
    "FROM EMP\n",
    "WHERE (DEPARTMENT_ID = 20 OR DEPARTMENT_ID = 50)\n",
    "AND SALARY BETWEEN 5000 AND 12000\n",
    "\"\"\"\n",
    "spark.sql(sql).show(5)"
   ]
  },
  {
   "cell_type": "code",
   "execution_count": 30,
   "id": "9d870072-3d60-4d71-9b73-d7df144d9cac",
   "metadata": {},
   "outputs": [],
   "source": [
    "## 하계 올림픽 국가별 메달수\n",
    "summer = spark.read.csv('data/summermedals.csv', header = True, inferSchema=True)\n",
    "SUMMER = summer.createOrReplaceTempView('SUMMER')"
   ]
  },
  {
   "cell_type": "code",
   "execution_count": 38,
   "id": "94fe6696-80a0-4053-b19a-b54b611f07b6",
   "metadata": {},
   "outputs": [
    {
     "name": "stdout",
     "output_type": "stream",
     "text": [
      "+-------+-----+\n",
      "|Country|medal|\n",
      "+-------+-----+\n",
      "|    USA| 4585|\n",
      "|    URS| 2049|\n",
      "|    GBR| 1720|\n",
      "|    FRA| 1396|\n",
      "|    GER| 1305|\n",
      "|    ITA| 1296|\n",
      "|    AUS| 1189|\n",
      "|    HUN| 1079|\n",
      "|    SWE| 1044|\n",
      "|    NED|  851|\n",
      "+-------+-----+\n",
      "only showing top 10 rows\n",
      "\n"
     ]
    }
   ],
   "source": [
    "sql = '''\n",
    "select Country, count(Medal) medal from SUMMER\n",
    "group by Country order by medal desc\n",
    "'''\n",
    "spark.sql(sql).show(10)"
   ]
  },
  {
   "cell_type": "code",
   "execution_count": 50,
   "id": "7ed65237-cfc4-4614-a276-ac53ce4b19aa",
   "metadata": {},
   "outputs": [
    {
     "name": "stdout",
     "output_type": "stream",
     "text": [
      "+-------+------+------+\n",
      "|Country| Medal|medals|\n",
      "+-------+------+------+\n",
      "|    USA|  Gold|  2235|\n",
      "|    USA|Silver|  1252|\n",
      "|    USA|Bronze|  1098|\n",
      "|    URS|  Gold|   838|\n",
      "|    URS|Silver|   627|\n",
      "|    GBR|Silver|   621|\n",
      "|    URS|Bronze|   584|\n",
      "|    GBR|Bronze|   553|\n",
      "|    GBR|  Gold|   546|\n",
      "|    FRA|Bronze|   497|\n",
      "+-------+------+------+\n",
      "only showing top 10 rows\n",
      "\n"
     ]
    }
   ],
   "source": [
    "sql = '''\n",
    "select Country, Medal, count(Medal) medals from SUMMER\n",
    "group by Country, Medal order by medals desc\n",
    "'''\n",
    "spark.sql(sql).show(10)"
   ]
  },
  {
   "cell_type": "code",
   "execution_count": 42,
   "id": "62682e14-063c-4422-a553-c040e24a47de",
   "metadata": {},
   "outputs": [],
   "source": [
    "## 타이타닉 승선객들 중 승선위치별 성별 생존자 조회\n",
    "titanic = spark.read.csv('data/titanic.csv', header = True, inferSchema=True)\n",
    "TITANIC = titanic.createOrReplaceTempView('TITANIC')"
   ]
  },
  {
   "cell_type": "code",
   "execution_count": 43,
   "id": "e0e31760-157b-4c84-92d8-991782226320",
   "metadata": {},
   "outputs": [
    {
     "name": "stdout",
     "output_type": "stream",
     "text": [
      "+--------+------+---+\n",
      "|embarked|   sex|cnt|\n",
      "+--------+------+---+\n",
      "|       C|  male|109|\n",
      "|       C|female|102|\n",
      "|       C|female| 11|\n",
      "|       C|  male| 48|\n",
      "|       Q|female| 23|\n",
      "|       Q|  male|  7|\n",
      "|       Q|  male| 56|\n",
      "|       Q|female| 37|\n",
      "|       S|female| 93|\n",
      "|       S|  male|106|\n",
      "+--------+------+---+\n",
      "only showing top 10 rows\n",
      "\n"
     ]
    }
   ],
   "source": [
    "sql = '''\n",
    "select embarked, sex, count(survived) cnt from TITANIC\n",
    "where embarked is not null\n",
    "group by embarked, sex, survived order by embarked\n",
    "'''\n",
    "spark.sql(sql).show(10)"
   ]
  },
  {
   "cell_type": "code",
   "execution_count": 49,
   "id": "d9583ccf-109d-4677-a6fd-fd16430d04d3",
   "metadata": {},
   "outputs": [
    {
     "name": "stdout",
     "output_type": "stream",
     "text": [
      "+--------+------+--------+---+\n",
      "|embarked|   sex|survived|cnt|\n",
      "+--------+------+--------+---+\n",
      "|       C|female|       1|102|\n",
      "|       C|  male|       1| 48|\n",
      "|       Q|female|       1| 37|\n",
      "|       Q|  male|       1|  7|\n",
      "|       S|  male|       1|106|\n",
      "|       S|female|       1|198|\n",
      "+--------+------+--------+---+\n",
      "\n"
     ]
    }
   ],
   "source": [
    "sql = '''\n",
    "select embarked, sex, survived, count(survived) cnt from TITANIC\n",
    "where embarked is not null and survived = 1\n",
    "group by embarked, sex, survived order by embarked\n",
    "'''\n",
    "spark.sql(sql).show(15)"
   ]
  }
 ],
 "metadata": {
  "kernelspec": {
   "display_name": "Python 3 (ipykernel)",
   "language": "python",
   "name": "python3"
  },
  "language_info": {
   "codemirror_mode": {
    "name": "ipython",
    "version": 3
   },
   "file_extension": ".py",
   "mimetype": "text/x-python",
   "name": "python",
   "nbconvert_exporter": "python",
   "pygments_lexer": "ipython3",
   "version": "3.10.12"
  }
 },
 "nbformat": 4,
 "nbformat_minor": 5
}

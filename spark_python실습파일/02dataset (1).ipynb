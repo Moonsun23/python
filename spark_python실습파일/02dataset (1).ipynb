{
 "cells": [
  {
   "cell_type": "markdown",
   "id": "ef20e921-a667-4645-be36-14b0ecfa5dc0",
   "metadata": {},
   "source": [
    "## 데이터프레임 생성"
   ]
  },
  {
   "cell_type": "code",
   "execution_count": 2,
   "id": "60bc8f70-0449-40e3-9524-6fd29e4b25cd",
   "metadata": {},
   "outputs": [],
   "source": [
    "from pyspark.sql.types import StringType, IntegerType"
   ]
  },
  {
   "cell_type": "markdown",
   "id": "514a9bae-affc-4c71-b32b-1204b6915387",
   "metadata": {},
   "source": [
    "### 리스트를 이용해서 데이터프레임 만들기\n",
    "* createDataFrame(RDD객체, 타입)"
   ]
  },
  {
   "cell_type": "code",
   "execution_count": 3,
   "id": "691ca990-fa61-4e7a-a914-eb508e8ca68a",
   "metadata": {},
   "outputs": [
    {
     "name": "stderr",
     "output_type": "stream",
     "text": [
      "                                                                                \r"
     ]
    },
    {
     "data": {
      "text/plain": [
       "['apple', 'peach', 'banana', 'mango', 'mincho']"
      ]
     },
     "execution_count": 3,
     "metadata": {},
     "output_type": "execute_result"
    }
   ],
   "source": [
    "fruits = ['apple','peach','banana','mango','mincho']\n",
    "words = sc.parallelize(fruits)\n",
    "words.collect()"
   ]
  },
  {
   "cell_type": "code",
   "execution_count": 4,
   "id": "325eda96-7fc3-41be-b8de-0d89014311a5",
   "metadata": {},
   "outputs": [
    {
     "name": "stderr",
     "output_type": "stream",
     "text": [
      "[Stage 1:>                                                          (0 + 1) / 1]\r"
     ]
    },
    {
     "name": "stdout",
     "output_type": "stream",
     "text": [
      "+------+\n",
      "| value|\n",
      "+------+\n",
      "| apple|\n",
      "| peach|\n",
      "|banana|\n",
      "| mango|\n",
      "|mincho|\n",
      "+------+\n",
      "\n"
     ]
    },
    {
     "name": "stderr",
     "output_type": "stream",
     "text": [
      "                                                                                \r"
     ]
    }
   ],
   "source": [
    "df = spark.createDataFrame(words, StringType())\n",
    "df.show()"
   ]
  },
  {
   "cell_type": "markdown",
   "id": "1a3bef2b-d6a6-4e61-b696-73cc3358914e",
   "metadata": {},
   "source": [
    "### 리스트로 데이터프레임 객체 만들기"
   ]
  },
  {
   "cell_type": "code",
   "execution_count": 5,
   "id": "38ae9a7f-afac-433b-b4d5-1473d7a89c90",
   "metadata": {},
   "outputs": [],
   "source": [
    "data = [('apple', 1500), ('peach', 2000), ('banana', 1500), ('mango', 2500), ('mincho', 3000)]"
   ]
  },
  {
   "cell_type": "code",
   "execution_count": 6,
   "id": "94a3dd82-848c-46d6-9f7e-e738bfaf260e",
   "metadata": {},
   "outputs": [
    {
     "data": {
      "text/plain": [
       "[Row(_1='apple', _2=1500),\n",
       " Row(_1='peach', _2=2000),\n",
       " Row(_1='banana', _2=1500),\n",
       " Row(_1='mango', _2=2500),\n",
       " Row(_1='mincho', _2=3000)]"
      ]
     },
     "execution_count": 6,
     "metadata": {},
     "output_type": "execute_result"
    }
   ],
   "source": [
    "fruits = spark.createDataFrame(data)\n",
    "fruits.collect()"
   ]
  },
  {
   "cell_type": "code",
   "execution_count": 7,
   "id": "578a1a54-0e65-4b94-b8a2-f4d1ff5566f5",
   "metadata": {},
   "outputs": [
    {
     "data": {
      "text/plain": [
       "[Row(fruit='apple', price=1500),\n",
       " Row(fruit='peach', price=2000),\n",
       " Row(fruit='banana', price=1500),\n",
       " Row(fruit='mango', price=2500),\n",
       " Row(fruit='mincho', price=3000)]"
      ]
     },
     "execution_count": 7,
     "metadata": {},
     "output_type": "execute_result"
    }
   ],
   "source": [
    "# 컬럼명 지정하면서 데이터프레임 생성\n",
    "fruits = spark.createDataFrame(data, ['fruit','price'])\n",
    "fruits.collect()"
   ]
  },
  {
   "cell_type": "code",
   "execution_count": 9,
   "id": "cd123cc9-cede-4f27-9abe-7b4c4f40505b",
   "metadata": {},
   "outputs": [
    {
     "data": {
      "text/plain": [
       "[Row(fruit='apple', price=1500),\n",
       " Row(fruit='peach', price=2000),\n",
       " Row(fruit='banana', price=1500),\n",
       " Row(fruit='mango', price=2500),\n",
       " Row(fruit='mincho', price=3000)]"
      ]
     },
     "execution_count": 9,
     "metadata": {},
     "output_type": "execute_result"
    }
   ],
   "source": [
    "# 컬럼명, 데이터타입 지정하면서 데이터프레임 생성\n",
    "fruits = spark.createDataFrame(data, \"fruit:string, price:int\")\n",
    "fruits.collect()"
   ]
  },
  {
   "cell_type": "code",
   "execution_count": 10,
   "id": "9678c262-e376-4a40-8dce-37cea72411c8",
   "metadata": {},
   "outputs": [
    {
     "data": {
      "text/plain": [
       "[Row(fruit='apple'),\n",
       " Row(fruit='peach'),\n",
       " Row(fruit='banana'),\n",
       " Row(fruit='mango'),\n",
       " Row(fruit='mincho')]"
      ]
     },
     "execution_count": 10,
     "metadata": {},
     "output_type": "execute_result"
    }
   ],
   "source": [
    "# 특정컬럼 출력 : select\n",
    "fruits.select('fruit').collect()"
   ]
  },
  {
   "cell_type": "code",
   "execution_count": 11,
   "id": "bd26022f-3fdd-4cbb-a248-25fa661d7dd0",
   "metadata": {},
   "outputs": [
    {
     "name": "stdout",
     "output_type": "stream",
     "text": [
      "+------+-----+\n",
      "| fruit|price|\n",
      "+------+-----+\n",
      "| apple| 1500|\n",
      "| peach| 2000|\n",
      "|banana| 1500|\n",
      "| mango| 2500|\n",
      "|mincho| 3000|\n",
      "+------+-----+\n",
      "\n"
     ]
    }
   ],
   "source": [
    "fruits.show()"
   ]
  },
  {
   "cell_type": "markdown",
   "id": "59f98890-7ee8-4b44-8ee1-aab17743c9ba",
   "metadata": {},
   "source": [
    "### 스파크 세션을 이용한 고급 데이터프레임 생성"
   ]
  },
  {
   "cell_type": "code",
   "execution_count": 12,
   "id": "1632d18f-5f1c-4f36-a928-c1ce08da495f",
   "metadata": {},
   "outputs": [],
   "source": [
    "from pyspark.sql import SparkSession\n",
    "from pyspark.sql.types import StructType"
   ]
  },
  {
   "cell_type": "code",
   "execution_count": 13,
   "id": "f863feac-a773-4d36-baa7-9435383642b2",
   "metadata": {},
   "outputs": [],
   "source": [
    "# 데이터프레임 스키마 정의 - employees\n",
    "spark = SparkSession.builder.appName('emp').getOrCreate()"
   ]
  },
  {
   "cell_type": "code",
   "execution_count": 16,
   "id": "66a8e969-a5fc-4e00-9b2f-787b6d6d121a",
   "metadata": {},
   "outputs": [],
   "source": [
    "# 데이터프레임 생성전 스키마 정의\n",
    "# add(컬럼명, 데이터타입)\n",
    "emp_schema = StructType().add('empno', 'integer').add('fname','string').add('lname','string')\\\n",
    ".add('hdate','string').add('sal','integer').add('deptid','integer')"
   ]
  },
  {
   "cell_type": "code",
   "execution_count": 17,
   "id": "ecda05f6-ba5b-43f4-bfe3-f61169d3d59a",
   "metadata": {},
   "outputs": [
    {
     "name": "stdout",
     "output_type": "stream",
     "text": [
      "+-----+-----+-----+----------+-----+------+\n",
      "|empno|fname|lname|     hdate|  sal|deptid|\n",
      "+-----+-----+-----+----------+-----+------+\n",
      "|  123|steve| king|2003-06-17|35000|  null|\n",
      "|  456| john|  seo|2005-12-15|20000|    50|\n",
      "|  789|david| null|2004-03-01|22000|    90|\n",
      "+-----+-----+-----+----------+-----+------+\n",
      "\n"
     ]
    }
   ],
   "source": [
    "# 지정한 스키마를 이용해서 데이터프레임 생성\n",
    "# 데이터프레임의 각 행은 set 객체로 정의\n",
    "# 스키마는 schema 속성으로 지정\n",
    "emp=[(123,'steve','king','2003-06-17',35000,None),\n",
    "   (456,'john','seo','2005-12-15',20000,50),\n",
    "   (789,'david',None,'2004-03-01',22000,90)]\n",
    "df = spark.createDataFrame(emp, schema=emp_schema)\n",
    "df.show()"
   ]
  },
  {
   "cell_type": "code",
   "execution_count": 18,
   "id": "86afaa4b-b02b-4a6b-9613-d6b5f262de14",
   "metadata": {},
   "outputs": [
    {
     "name": "stdout",
     "output_type": "stream",
     "text": [
      "root\n",
      " |-- empno: integer (nullable = true)\n",
      " |-- fname: string (nullable = true)\n",
      " |-- lname: string (nullable = true)\n",
      " |-- hdate: string (nullable = true)\n",
      " |-- sal: integer (nullable = true)\n",
      " |-- deptid: integer (nullable = true)\n",
      "\n"
     ]
    }
   ],
   "source": [
    "# 데이터프레임 스키마 확인\n",
    "df.printSchema()"
   ]
  },
  {
   "cell_type": "markdown",
   "id": "448e702a-675c-42bd-9f70-0c5f1c5f4345",
   "metadata": {},
   "source": [
    "### csv 파일을 이용해서 데이터프레임 만들기\n",
    "+ read.csv(경로, 헤더여부, 스키마여부)"
   ]
  },
  {
   "cell_type": "code",
   "execution_count": 19,
   "id": "93ef3881-6a9c-4c45-b791-3d93fe912983",
   "metadata": {},
   "outputs": [
    {
     "name": "stdout",
     "output_type": "stream",
     "text": [
      "root\n",
      " |-- EMPLOYEE_ID: integer (nullable = true)\n",
      " |-- FIRST_NAME: string (nullable = true)\n",
      " |-- LAST_NAME: string (nullable = true)\n",
      " |-- EMAIL: string (nullable = true)\n",
      " |-- PHONE_NUMBER: string (nullable = true)\n",
      " |-- HIRE_DATE: string (nullable = true)\n",
      " |-- JOB_ID: string (nullable = true)\n",
      " |-- SALARY: double (nullable = true)\n",
      " |-- COMMISSION_PCT: double (nullable = true)\n",
      " |-- MANAGER_ID: integer (nullable = true)\n",
      " |-- DEPARTMENT_ID: integer (nullable = true)\n",
      "\n"
     ]
    }
   ],
   "source": [
    "emp = spark.read.csv('data/employees.csv', header = True, inferSchema=True)\n",
    "# inferSchema: 스키마를 추론해서 써줌\n",
    "emp.printSchema()"
   ]
  },
  {
   "cell_type": "code",
   "execution_count": 20,
   "id": "451524e9-1bc6-4a6f-aa83-9389fcecedce",
   "metadata": {},
   "outputs": [
    {
     "data": {
      "text/plain": [
       "107"
      ]
     },
     "execution_count": 20,
     "metadata": {},
     "output_type": "execute_result"
    }
   ],
   "source": [
    "# 데이터프레임 행수 출력\n",
    "emp.count()"
   ]
  },
  {
   "cell_type": "code",
   "execution_count": 21,
   "id": "6dc6bef1-f7bd-47f1-b7e0-95beb85259a7",
   "metadata": {},
   "outputs": [
    {
     "data": {
      "text/plain": [
       "['EMPLOYEE_ID',\n",
       " 'FIRST_NAME',\n",
       " 'LAST_NAME',\n",
       " 'EMAIL',\n",
       " 'PHONE_NUMBER',\n",
       " 'HIRE_DATE',\n",
       " 'JOB_ID',\n",
       " 'SALARY',\n",
       " 'COMMISSION_PCT',\n",
       " 'MANAGER_ID',\n",
       " 'DEPARTMENT_ID']"
      ]
     },
     "execution_count": 21,
     "metadata": {},
     "output_type": "execute_result"
    }
   ],
   "source": [
    "# 데이터프레임 컬럼목록 출력\n",
    "emp.columns"
   ]
  },
  {
   "cell_type": "code",
   "execution_count": 22,
   "id": "8bc126e7-49d0-4f12-abd8-45b56067c395",
   "metadata": {},
   "outputs": [
    {
     "name": "stdout",
     "output_type": "stream",
     "text": [
      "+-----------+----------+---------+--------+------------+----------+-------+-------+--------------+----------+-------------+\n",
      "|EMPLOYEE_ID|FIRST_NAME|LAST_NAME|   EMAIL|PHONE_NUMBER| HIRE_DATE| JOB_ID| SALARY|COMMISSION_PCT|MANAGER_ID|DEPARTMENT_ID|\n",
      "+-----------+----------+---------+--------+------------+----------+-------+-------+--------------+----------+-------------+\n",
      "|        100|    Steven|     King|   SKING|515.123.4567|2003-06-17|AD_PRES|24000.0|          null|      null|           90|\n",
      "|        101|     Neena|  Kochhar|NKOCHHAR|515.123.4568|2005-09-21|  AD_VP|17000.0|          null|       100|           90|\n",
      "|        102|       Lex|  De Haan| LDEHAAN|515.123.4569|2001-01-13|  AD_VP|17000.0|          null|       100|           90|\n",
      "|        103| Alexander|   Hunold| AHUNOLD|590.423.4567|2006-01-03|IT_PROG| 9000.0|          null|       102|           60|\n",
      "|        104|     Bruce|    Ernst|  BERNST|590.423.4568|2007-05-21|IT_PROG| 6000.0|          null|       103|           60|\n",
      "+-----------+----------+---------+--------+------------+----------+-------+-------+--------------+----------+-------------+\n",
      "only showing top 5 rows\n",
      "\n"
     ]
    }
   ],
   "source": [
    "# 지정한 수만큼 행 출력\n",
    "emp.show(5)"
   ]
  },
  {
   "cell_type": "markdown",
   "id": "63d2dce2-9db4-425a-a53c-55c148dd0cf3",
   "metadata": {},
   "source": [
    "#### 데이터 요약\n",
    "* summary(통계항목)"
   ]
  },
  {
   "cell_type": "code",
   "execution_count": 24,
   "id": "4f328606-51d8-4724-9cb1-0a243681fa16",
   "metadata": {},
   "outputs": [
    {
     "name": "stdout",
     "output_type": "stream",
     "text": [
      "+-------+----------------+----------+---------+-------+------------------+----------+----------+------------------+-------------------+------------------+------------------+\n",
      "|summary|     EMPLOYEE_ID|FIRST_NAME|LAST_NAME|  EMAIL|      PHONE_NUMBER| HIRE_DATE|    JOB_ID|            SALARY|     COMMISSION_PCT|        MANAGER_ID|     DEPARTMENT_ID|\n",
      "+-------+----------------+----------+---------+-------+------------------+----------+----------+------------------+-------------------+------------------+------------------+\n",
      "|  count|             107|       107|      107|    107|               107|       107|       107|               107|                 35|               106|               106|\n",
      "|   mean|           153.0|      null|     null|   null|              null|      null|      null|6461.8317757009345|0.22285714285714286|124.76415094339623| 63.20754716981132|\n",
      "| stddev|31.0322412983658|      null|     null|   null|              null|      null|      null|3909.5797305524825|0.08518393346757594|20.315395000692018|20.910110100200708|\n",
      "|    min|             100|      Adam|     Abel| ABANDA|011.44.1343.329268|2001-01-13|AC_ACCOUNT|            2100.0|                0.1|               100|                10|\n",
      "|    25%|             126|      null|     null|   null|              null|      null|      null|            3100.0|               0.15|               108|                50|\n",
      "|    50%|             153|      null|     null|   null|              null|      null|      null|            6200.0|                0.2|               122|                50|\n",
      "|    75%|             180|      null|     null|   null|              null|      null|      null|            9000.0|                0.3|               145|                80|\n",
      "|    max|             206|   Winston|  Zlotkey|WTAYLOR|      650.509.4876|2008-04-21|    ST_MAN|           24000.0|                0.4|               205|               110|\n",
      "+-------+----------------+----------+---------+-------+------------------+----------+----------+------------------+-------------------+------------------+------------------+\n",
      "\n"
     ]
    }
   ],
   "source": [
    "emp.summary().show()"
   ]
  },
  {
   "cell_type": "code",
   "execution_count": 28,
   "id": "28c284db-7001-4d5f-86b4-db1f9413d869",
   "metadata": {},
   "outputs": [
    {
     "name": "stdout",
     "output_type": "stream",
     "text": [
      "+-------+------------------+-------------------+\n",
      "|summary|            SALARY|     COMMISSION_PCT|\n",
      "+-------+------------------+-------------------+\n",
      "|  count|               107|                 35|\n",
      "|   mean|6461.8317757009345|0.22285714285714286|\n",
      "| stddev|3909.5797305524825|0.08518393346757594|\n",
      "|    min|            2100.0|                0.1|\n",
      "|    25%|            3100.0|               0.15|\n",
      "|    50%|            6200.0|                0.2|\n",
      "|    75%|            9000.0|                0.3|\n",
      "|    max|           24000.0|                0.4|\n",
      "+-------+------------------+-------------------+\n",
      "\n"
     ]
    }
   ],
   "source": [
    "emp.select('SALARY','COMMISSION_PCT').summary().show()"
   ]
  },
  {
   "cell_type": "code",
   "execution_count": 29,
   "id": "e13ae610-f7a8-4727-81ab-4ee0ff4e5457",
   "metadata": {},
   "outputs": [
    {
     "name": "stdout",
     "output_type": "stream",
     "text": [
      "+-------+------------------+-------------------+\n",
      "|summary|            SALARY|     COMMISSION_PCT|\n",
      "+-------+------------------+-------------------+\n",
      "|   mean|6461.8317757009345|0.22285714285714286|\n",
      "| stddev|3909.5797305524825|0.08518393346757594|\n",
      "|    min|            2100.0|                0.1|\n",
      "|    max|           24000.0|                0.4|\n",
      "+-------+------------------+-------------------+\n",
      "\n"
     ]
    }
   ],
   "source": [
    "emp.select('SALARY','COMMISSION_PCT').summary('mean','stddev','min','max').show()"
   ]
  },
  {
   "cell_type": "markdown",
   "id": "4b539da3-4c79-47f2-9585-d63010339476",
   "metadata": {},
   "source": [
    "### 데이터프레임 데이터 탐색\n",
    "+ select\n",
    "+ where\n",
    "+ orderBy\n",
    "+ groupBy"
   ]
  },
  {
   "cell_type": "code",
   "execution_count": 31,
   "id": "5e343bfc-fcf5-4640-b53d-b00fe7153911",
   "metadata": {},
   "outputs": [
    {
     "name": "stdout",
     "output_type": "stream",
     "text": [
      "+----------+---------+\n",
      "|FIRST_NAME|LAST_NAME|\n",
      "+----------+---------+\n",
      "|    Steven|     King|\n",
      "|     Neena|  Kochhar|\n",
      "|       Lex|  De Haan|\n",
      "| Alexander|   Hunold|\n",
      "|     Bruce|    Ernst|\n",
      "+----------+---------+\n",
      "only showing top 5 rows\n",
      "\n"
     ]
    }
   ],
   "source": [
    "# 모든 사원의 이름 조회\n",
    "\n",
    "emp.select(['FIRST_NAME','LAST_NAME']).show(5)"
   ]
  },
  {
   "cell_type": "code",
   "execution_count": 36,
   "id": "b042b67b-52f1-4b28-abae-fde538a4f330",
   "metadata": {},
   "outputs": [
    {
     "name": "stdout",
     "output_type": "stream",
     "text": [
      "+-----------+----------+---------+--------+------------+----------+-------+-------+--------------+----------+-------------+\n",
      "|EMPLOYEE_ID|FIRST_NAME|LAST_NAME|   EMAIL|PHONE_NUMBER| HIRE_DATE| JOB_ID| SALARY|COMMISSION_PCT|MANAGER_ID|DEPARTMENT_ID|\n",
      "+-----------+----------+---------+--------+------------+----------+-------+-------+--------------+----------+-------------+\n",
      "|        100|    Steven|     King|   SKING|515.123.4567|2003-06-17|AD_PRES|24000.0|          null|      null|           90|\n",
      "|        101|     Neena|  Kochhar|NKOCHHAR|515.123.4568|2005-09-21|  AD_VP|17000.0|          null|       100|           90|\n",
      "|        102|       Lex|  De Haan| LDEHAAN|515.123.4569|2001-01-13|  AD_VP|17000.0|          null|       100|           90|\n",
      "|        103| Alexander|   Hunold| AHUNOLD|590.423.4567|2006-01-03|IT_PROG| 9000.0|          null|       102|           60|\n",
      "|        108|     Nancy|Greenberg|NGREENBE|515.124.4569|2002-08-17| FI_MGR|12008.0|          null|       101|          100|\n",
      "+-----------+----------+---------+--------+------------+----------+-------+-------+--------------+----------+-------------+\n",
      "only showing top 5 rows\n",
      "\n"
     ]
    }
   ],
   "source": [
    "# 급여가 7000이상인 사원 조회 (필터사용)\n",
    "# 컬럼 지정 : 객체명[컬럼명]\n",
    "\n",
    "emp.where(emp['SALARY'] >= 7000).show(5)"
   ]
  },
  {
   "cell_type": "code",
   "execution_count": 33,
   "id": "87b532ac-a26d-4a38-98a2-fbcfefdfa5af",
   "metadata": {},
   "outputs": [
    {
     "data": {
      "text/plain": [
       "47"
      ]
     },
     "execution_count": 33,
     "metadata": {},
     "output_type": "execute_result"
    }
   ],
   "source": [
    "# 급여가 7000이상인 사원수\n",
    "emp.where(emp['SALARY'] >= 7000).count()"
   ]
  },
  {
   "cell_type": "code",
   "execution_count": 35,
   "id": "c95a047f-533d-4399-b4d2-afd69ca8348f",
   "metadata": {},
   "outputs": [
    {
     "name": "stdout",
     "output_type": "stream",
     "text": [
      "+-----------+----------+----------+--------+------------+----------+----------+------+--------------+----------+-------------+\n",
      "|EMPLOYEE_ID|FIRST_NAME| LAST_NAME|   EMAIL|PHONE_NUMBER| HIRE_DATE|    JOB_ID|SALARY|COMMISSION_PCT|MANAGER_ID|DEPARTMENT_ID|\n",
      "+-----------+----------+----------+--------+------------+----------+----------+------+--------------+----------+-------------+\n",
      "|        104|     Bruce|     Ernst|  BERNST|590.423.4568|2007-05-21|   IT_PROG|6000.0|          null|       103|           60|\n",
      "|        107|     Diana|   Lorentz|DLORENTZ|590.423.5567|2007-02-07|   IT_PROG|4200.0|          null|       103|           60|\n",
      "|        113|      Luis|      Popp|   LPOPP|515.124.4567|2007-12-07|FI_ACCOUNT|6900.0|          null|       108|          100|\n",
      "|        118|       Guy|    Himuro| GHIMURO|515.127.4565|2006-11-15|  PU_CLERK|2600.0|          null|       114|           30|\n",
      "|        119|     Karen|Colmenares|KCOLMENA|515.127.4566|2007-08-10|  PU_CLERK|2500.0|          null|       114|           30|\n",
      "+-----------+----------+----------+--------+------------+----------+----------+------+--------------+----------+-------------+\n",
      "only showing top 5 rows\n",
      "\n"
     ]
    }
   ],
   "source": [
    "# 2006-02-05 부터 2006-11-15 사이에 고용된 사원조회\n",
    "emp.where((emp['HIRE_DATE'] >= '2006-02-05') & (emp['HIRE_DATE'] >= '2006-11-15')).show(5)"
   ]
  },
  {
   "cell_type": "code",
   "execution_count": 37,
   "id": "e98d6d7a-9f7c-4513-8d21-976de5f24e67",
   "metadata": {},
   "outputs": [
    {
     "name": "stdout",
     "output_type": "stream",
     "text": [
      "+-------------+-----+\n",
      "|DEPARTMENT_ID|count|\n",
      "+-------------+-----+\n",
      "|         null|    1|\n",
      "|           20|    2|\n",
      "|           40|    1|\n",
      "|          100|    6|\n",
      "|           10|    1|\n",
      "+-------------+-----+\n",
      "only showing top 5 rows\n",
      "\n"
     ]
    }
   ],
   "source": [
    "# 부서번호별 사원수 조회\n",
    "emp.groupBy('DEPARTMENT_ID').count().show(5)"
   ]
  },
  {
   "cell_type": "code",
   "execution_count": 38,
   "id": "7f054bee-9c35-49a0-822f-67a66acc19ac",
   "metadata": {},
   "outputs": [
    {
     "name": "stdout",
     "output_type": "stream",
     "text": [
      "+----------+-----+\n",
      "|    JOB_ID|count|\n",
      "+----------+-----+\n",
      "|FI_ACCOUNT|    5|\n",
      "|    MK_MAN|    1|\n",
      "|   IT_PROG|    5|\n",
      "|    FI_MGR|    1|\n",
      "|AC_ACCOUNT|    1|\n",
      "+----------+-----+\n",
      "only showing top 5 rows\n",
      "\n"
     ]
    }
   ],
   "source": [
    "# 직책별 사원수 조회\n",
    "emp.groupBy('JOB_ID').count().show(5)"
   ]
  },
  {
   "cell_type": "code",
   "execution_count": 39,
   "id": "eb4e587b-ff0f-49fa-a287-7c9f95038442",
   "metadata": {},
   "outputs": [
    {
     "name": "stdout",
     "output_type": "stream",
     "text": [
      "+-------------+-----+\n",
      "|DEPARTMENT_ID|count|\n",
      "+-------------+-----+\n",
      "|         null|    1|\n",
      "|           10|    1|\n",
      "|           20|    2|\n",
      "|           30|    6|\n",
      "|           40|    1|\n",
      "+-------------+-----+\n",
      "only showing top 5 rows\n",
      "\n"
     ]
    }
   ],
   "source": [
    "# 부서번호별 사원수 조회후 부서번호 순으로 정렬\n",
    "emp.groupBy('DEPARTMENT_ID').count().orderBy('DEPARTMENT_ID').show(5)"
   ]
  },
  {
   "cell_type": "code",
   "execution_count": 40,
   "id": "66ab1fb5-e049-424d-a4a9-2fa061b87a61",
   "metadata": {},
   "outputs": [
    {
     "name": "stdout",
     "output_type": "stream",
     "text": [
      "+----------+-----+\n",
      "|    JOB_ID|count|\n",
      "+----------+-----+\n",
      "|AC_ACCOUNT|    1|\n",
      "|    AC_MGR|    1|\n",
      "|   AD_ASST|    1|\n",
      "|   AD_PRES|    1|\n",
      "|     AD_VP|    2|\n",
      "+----------+-----+\n",
      "only showing top 5 rows\n",
      "\n"
     ]
    }
   ],
   "source": [
    "# 직책별 사원수 조회 후 직책 순으로 정렬\n",
    "emp.groupBy('JOB_ID').count().orderBy('JOB_ID').show(5)"
   ]
  },
  {
   "cell_type": "code",
   "execution_count": 42,
   "id": "5a6d7714-8f5c-4dd9-96cf-983a16e7e793",
   "metadata": {},
   "outputs": [
    {
     "name": "stdout",
     "output_type": "stream",
     "text": [
      "+--------+-----+\n",
      "|  JOB_ID|count|\n",
      "+--------+-----+\n",
      "|  SA_REP|   30|\n",
      "|ST_CLERK|   20|\n",
      "|SH_CLERK|   20|\n",
      "|  ST_MAN|    5|\n",
      "|  SA_MAN|    5|\n",
      "+--------+-----+\n",
      "only showing top 5 rows\n",
      "\n"
     ]
    }
   ],
   "source": [
    "# 직책별 사원수 조회 후 사원수 순으로 내림차순 정렬\n",
    "emp.groupBy('JOB_ID').count().orderBy('count', ascending=False).show(5)"
   ]
  },
  {
   "cell_type": "markdown",
   "id": "ad739813-529a-405a-aec1-892eaa402e84",
   "metadata": {},
   "source": [
    "#### 집계함수 사용\n",
    "+ agg(집계함수명)"
   ]
  },
  {
   "cell_type": "code",
   "execution_count": 43,
   "id": "a3db0aef-2187-433b-86c1-b70bf4b447b3",
   "metadata": {},
   "outputs": [],
   "source": [
    "import pyspark.sql.functions as F"
   ]
  },
  {
   "cell_type": "code",
   "execution_count": 46,
   "id": "33163358-fe01-4c35-aa71-143538d399d8",
   "metadata": {},
   "outputs": [
    {
     "name": "stdout",
     "output_type": "stream",
     "text": [
      "+-------+-----------+\n",
      "| JOB_ID|avg(SALARY)|\n",
      "+-------+-----------+\n",
      "|AD_PRES|    24000.0|\n",
      "|  AD_VP|    17000.0|\n",
      "| MK_MAN|    13000.0|\n",
      "| SA_MAN|    12200.0|\n",
      "| AC_MGR|    12008.0|\n",
      "+-------+-----------+\n",
      "only showing top 5 rows\n",
      "\n"
     ]
    }
   ],
   "source": [
    "# 직책별 평균 급여를 조회해서 내림차순으로 정렬\n",
    "# 단, '평균급여' 컬럼의 이름에 함수명이 포함되어 출력\n",
    "\n",
    "emp.groupBy('JOB_ID').agg(F.avg('SALARY')).orderBy('avg(SALARY)', ascending=False).show(5)"
   ]
  },
  {
   "cell_type": "code",
   "execution_count": 47,
   "id": "6ebe2538-59e3-486e-b558-1f4332ef2dfc",
   "metadata": {},
   "outputs": [
    {
     "name": "stdout",
     "output_type": "stream",
     "text": [
      "+-------+--------+\n",
      "| JOB_ID|mean sal|\n",
      "+-------+--------+\n",
      "|AD_PRES| 24000.0|\n",
      "|  AD_VP| 17000.0|\n",
      "| MK_MAN| 13000.0|\n",
      "| SA_MAN| 12200.0|\n",
      "| AC_MGR| 12008.0|\n",
      "+-------+--------+\n",
      "only showing top 5 rows\n",
      "\n"
     ]
    }
   ],
   "source": [
    "# 직책별 평균 급여를 조회해서 내림차순으로 정렬 (별칭부여:alias)\n",
    "emp.groupBy('JOB_ID').agg(F.avg('SALARY').alias('mean sal')).orderBy('mean sal', ascending=False).show(5)"
   ]
  },
  {
   "cell_type": "code",
   "execution_count": 57,
   "id": "8c1653be-a263-4561-8274-e0fed80f0ee2",
   "metadata": {},
   "outputs": [
    {
     "name": "stdout",
     "output_type": "stream",
     "text": [
      "+----------+\n",
      "|    JOB_ID|\n",
      "+----------+\n",
      "|FI_ACCOUNT|\n",
      "|    MK_MAN|\n",
      "|   IT_PROG|\n",
      "|    FI_MGR|\n",
      "|AC_ACCOUNT|\n",
      "+----------+\n",
      "only showing top 5 rows\n",
      "\n"
     ]
    }
   ],
   "source": [
    "# 사원들의 직책을 모두 출력하세요, \n",
    "# 단 중복없이 하나씩만 표시되도록 합니다\n",
    "emp.select('JOB_ID').distinct().show(5)"
   ]
  },
  {
   "cell_type": "code",
   "execution_count": 49,
   "id": "f98f825d-4c94-4433-bc03-4dcedbf85289",
   "metadata": {},
   "outputs": [
    {
     "data": {
      "text/plain": [
       "19"
      ]
     },
     "execution_count": 49,
     "metadata": {},
     "output_type": "execute_result"
    }
   ],
   "source": [
    "# 모든 직책 수는? (중복제외하고 카운팅)\n",
    "emp.select('JOB_ID').distinct().count()"
   ]
  },
  {
   "cell_type": "code",
   "execution_count": 50,
   "id": "818a8de3-b9a0-4d31-b65e-09c82f825575",
   "metadata": {},
   "outputs": [
    {
     "name": "stdout",
     "output_type": "stream",
     "text": [
      "+------+\n",
      "|JOB_ID|\n",
      "+------+\n",
      "|    19|\n",
      "+------+\n",
      "\n"
     ]
    }
   ],
   "source": [
    "emp.select(F.countDistinct('JOB_ID').alias('JOB_ID')).show()"
   ]
  },
  {
   "cell_type": "code",
   "execution_count": 56,
   "id": "2bb021f5-4043-405e-b980-a2f183f81a88",
   "metadata": {},
   "outputs": [
    {
     "name": "stdout",
     "output_type": "stream",
     "text": [
      "+----------+-------+-------+--------+\n",
      "|FIRST_NAME| JOB_ID| SALARY|105% sal|\n",
      "+----------+-------+-------+--------+\n",
      "|    Steven|AD_PRES|24000.0| 25200.0|\n",
      "|     Neena|  AD_VP|17000.0| 17850.0|\n",
      "|       Lex|  AD_VP|17000.0| 17850.0|\n",
      "| Alexander|IT_PROG| 9000.0|  9450.0|\n",
      "|     Bruce|IT_PROG| 6000.0|  6300.0|\n",
      "+----------+-------+-------+--------+\n",
      "only showing top 5 rows\n",
      "\n"
     ]
    }
   ],
   "source": [
    "# 사원의 이름, 직책, 급여 출력하세요\n",
    "#단, 5% 인상한 급여도 같이 출력합니다\n",
    "emp.select('FIRST_NAME','JOB_ID','SALARY', (emp.SALARY * 1.05).alias('105% sal')).show(5)"
   ]
  },
  {
   "cell_type": "code",
   "execution_count": 58,
   "id": "7be20e58-ff36-4e9f-a72f-ebfe197013a7",
   "metadata": {},
   "outputs": [
    {
     "name": "stdout",
     "output_type": "stream",
     "text": [
      "+----------+-------+-------+--------+\n",
      "|FIRST_NAME| JOB_ID| SALARY|105% sal|\n",
      "+----------+-------+-------+--------+\n",
      "|    Steven|AD_PRES|24000.0| 25200.0|\n",
      "|     Neena|  AD_VP|17000.0| 17850.0|\n",
      "|       Lex|  AD_VP|17000.0| 17850.0|\n",
      "| Alexander|IT_PROG| 9000.0|  9450.0|\n",
      "|     Bruce|IT_PROG| 6000.0|  6300.0|\n",
      "+----------+-------+-------+--------+\n",
      "only showing top 5 rows\n",
      "\n"
     ]
    }
   ],
   "source": [
    "emp.select('FIRST_NAME','JOB_ID', F.round(emp.SALARY).alias('SALARY'), (emp.SALARY * 1.05).alias('105% sal')).show(5)"
   ]
  },
  {
   "cell_type": "code",
   "execution_count": 60,
   "id": "8cec4270-cca2-4f42-a898-90297b1c0d95",
   "metadata": {},
   "outputs": [
    {
     "name": "stdout",
     "output_type": "stream",
     "text": [
      "+----------+-------+------+--------+\n",
      "|FIRST_NAME| JOB_ID|SALARY|105% sal|\n",
      "+----------+-------+------+--------+\n",
      "|    Steven|AD_PRES| 24000|   25200|\n",
      "|     Neena|  AD_VP| 17000|   17850|\n",
      "|       Lex|  AD_VP| 17000|   17850|\n",
      "| Alexander|IT_PROG|  9000|    9450|\n",
      "|     Bruce|IT_PROG|  6000|    6300|\n",
      "+----------+-------+------+--------+\n",
      "only showing top 5 rows\n",
      "\n"
     ]
    }
   ],
   "source": [
    "emp.select('FIRST_NAME','JOB_ID', emp.SALARY.cast('int'), (emp.SALARY * 1.05).cast('int').alias('105% sal')).show(5)"
   ]
  },
  {
   "cell_type": "code",
   "execution_count": 61,
   "id": "75eb6f1b-aec8-4e2d-87b1-c352ccd92f49",
   "metadata": {},
   "outputs": [
    {
     "name": "stdout",
     "output_type": "stream",
     "text": [
      "+---------+------+\n",
      "|LAST_NAME|SALARY|\n",
      "+---------+------+\n",
      "|    Weiss|8000.0|\n",
      "|    Fripp|8200.0|\n",
      "| Kaufling|7900.0|\n",
      "|  Vollman|6500.0|\n",
      "|  Mourgos|5800.0|\n",
      "+---------+------+\n",
      "only showing top 5 rows\n",
      "\n"
     ]
    }
   ],
   "source": [
    "# 20번 또는 50번 부서에 근무하며, \n",
    "#급여가 5000 ~ 12,000 사이인 사원들의 \n",
    "#LAST_NAME 및 급여를 조회하세요\n",
    "emp.where((emp.DEPARTMENT_ID == 20) | (emp.DEPARTMENT_ID == 50))\\\n",
    ".where((emp.SALARY >= 5000) & (emp.SALARY <= 12000))\\\n",
    ".select('LAST_NAME','SALARY').show(5)"
   ]
  },
  {
   "cell_type": "code",
   "execution_count": 67,
   "id": "1e984ecf-cb1b-4aa8-b481-1e1ab9e233b5",
   "metadata": {},
   "outputs": [
    {
     "name": "stdout",
     "output_type": "stream",
     "text": [
      "+---------+-------------+------+\n",
      "|LAST_NAME|DEPARTMENT_ID|SALARY|\n",
      "+---------+-------------+------+\n",
      "|    Weiss|           50|8000.0|\n",
      "|    Fripp|           50|8200.0|\n",
      "| Kaufling|           50|7900.0|\n",
      "|  Vollman|           50|6500.0|\n",
      "|  Mourgos|           50|5800.0|\n",
      "|      Fay|           20|6000.0|\n",
      "+---------+-------------+------+\n",
      "\n"
     ]
    }
   ],
   "source": [
    "emp.where(emp.DEPARTMENT_ID.isin(20,50))\\\n",
    ".where(emp.SALARY.between(5000,12000))\\\n",
    ".select('LAST_NAME','DEPARTMENT_ID','SALARY').show()"
   ]
  },
  {
   "cell_type": "code",
   "execution_count": null,
   "id": "7b88d22e-128c-4573-a698-2db34543a8b4",
   "metadata": {},
   "outputs": [],
   "source": []
  }
 ],
 "metadata": {
  "kernelspec": {
   "display_name": "Python 3 (ipykernel)",
   "language": "python",
   "name": "python3"
  },
  "language_info": {
   "codemirror_mode": {
    "name": "ipython",
    "version": 3
   },
   "file_extension": ".py",
   "mimetype": "text/x-python",
   "name": "python",
   "nbconvert_exporter": "python",
   "pygments_lexer": "ipython3",
   "version": "3.10.12"
  }
 },
 "nbformat": 4,
 "nbformat_minor": 5
}

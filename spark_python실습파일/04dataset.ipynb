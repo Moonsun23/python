{
 "cells": [
  {
   "cell_type": "markdown",
   "id": "8e2695bd-e40c-4703-b722-0b410765d705",
   "metadata": {},
   "source": [
    "## Join\n",
    "+ 여러 테이블을 연결해서 데이터를 검색하는 것\n",
    "+ 테이블의 결합기준은 각 테이블에 존재하는 공통 속성임\n",
    "+ 결합 유형 : inner join, outer join, self join\n",
    "+ 데이터객체명.join(조인대상, 조인조건, 조인유형)"
   ]
  },
  {
   "cell_type": "code",
   "execution_count": 1,
   "id": "4153d99c-a158-4b91-8e86-e7e3a23c6116",
   "metadata": {},
   "outputs": [],
   "source": [
    "from pyspark.sql import SparkSession\n",
    "from pyspark.sql.types import StructType"
   ]
  },
  {
   "cell_type": "code",
   "execution_count": 2,
   "id": "3ed8003b-9ea6-46f1-9b96-e7326e61e5c5",
   "metadata": {},
   "outputs": [],
   "source": [
    "spark = SparkSession.builder.appName('emp').getOrCreate()"
   ]
  },
  {
   "cell_type": "code",
   "execution_count": 3,
   "id": "fef0ce19-1e3d-4ec1-ae56-0d28012194fd",
   "metadata": {},
   "outputs": [],
   "source": [
    "emp = spark.read.csv('data/employees.csv', header = True, inferSchema=True)\n",
    "dept = spark.read.csv('data/departments.csv', header = True, inferSchema=True)"
   ]
  },
  {
   "cell_type": "markdown",
   "id": "f80aafb9-5bfa-450e-9997-28a96dbdeebc",
   "metadata": {},
   "source": [
    "### 내부조인 : 공통 속성명이 다를 경우\n",
    "* select * from emp e inner join dept d   \n",
    "on e.DEPARTMENT_ID = d.DEPARTMENT_ID"
   ]
  },
  {
   "cell_type": "code",
   "execution_count": 4,
   "id": "c91887a0-de37-433b-aa14-de6bad138653",
   "metadata": {},
   "outputs": [
    {
     "name": "stdout",
     "output_type": "stream",
     "text": [
      "+-----------+----------+---------+--------+------------+----------+-------+-------+--------------+----------+-------------+-------------+---------------+----------+-----------+\n",
      "|EMPLOYEE_ID|FIRST_NAME|LAST_NAME|   EMAIL|PHONE_NUMBER| HIRE_DATE| JOB_ID| SALARY|COMMISSION_PCT|MANAGER_ID|DEPARTMENT_ID|DEPARTMENT_ID|DEPARTMENT_NAME|MANAGER_ID|LOCATION_ID|\n",
      "+-----------+----------+---------+--------+------------+----------+-------+-------+--------------+----------+-------------+-------------+---------------+----------+-----------+\n",
      "|        100|    Steven|     King|   SKING|515.123.4567|2003-06-17|AD_PRES|24000.0|          null|      null|           90|           90|      Executive|       100|       1700|\n",
      "|        101|     Neena|  Kochhar|NKOCHHAR|515.123.4568|2005-09-21|  AD_VP|17000.0|          null|       100|           90|           90|      Executive|       100|       1700|\n",
      "|        102|       Lex|  De Haan| LDEHAAN|515.123.4569|2001-01-13|  AD_VP|17000.0|          null|       100|           90|           90|      Executive|       100|       1700|\n",
      "|        103| Alexander|   Hunold| AHUNOLD|590.423.4567|2006-01-03|IT_PROG| 9000.0|          null|       102|           60|           60|             IT|       103|       1400|\n",
      "|        104|     Bruce|    Ernst|  BERNST|590.423.4568|2007-05-21|IT_PROG| 6000.0|          null|       103|           60|           60|             IT|       103|       1400|\n",
      "+-----------+----------+---------+--------+------------+----------+-------+-------+--------------+----------+-------------+-------------+---------------+----------+-----------+\n",
      "only showing top 5 rows\n",
      "\n"
     ]
    }
   ],
   "source": [
    "join_cnd = emp.DEPARTMENT_ID == dept.DEPARTMENT_ID\n",
    "empdept = emp.join(dept, join_cnd, 'inner')\n",
    "empdept.show(5)"
   ]
  },
  {
   "cell_type": "markdown",
   "id": "6c493335-27f8-49d5-803f-93e838d0996d",
   "metadata": {},
   "source": [
    "### 내부조인 : 공통 속성명이 같을 경우\n",
    "* select * from emp e inner join dept d   \n",
    "using (DEPARTMENT_ID)"
   ]
  },
  {
   "cell_type": "code",
   "execution_count": 5,
   "id": "d4543e19-b0cf-43ed-9029-3b6568edefec",
   "metadata": {},
   "outputs": [
    {
     "name": "stdout",
     "output_type": "stream",
     "text": [
      "+-------------+-----------+----------+---------+--------+------------+----------+-------+-------+--------------+----------+---------------+----------+-----------+\n",
      "|DEPARTMENT_ID|EMPLOYEE_ID|FIRST_NAME|LAST_NAME|   EMAIL|PHONE_NUMBER| HIRE_DATE| JOB_ID| SALARY|COMMISSION_PCT|MANAGER_ID|DEPARTMENT_NAME|MANAGER_ID|LOCATION_ID|\n",
      "+-------------+-----------+----------+---------+--------+------------+----------+-------+-------+--------------+----------+---------------+----------+-----------+\n",
      "|           90|        100|    Steven|     King|   SKING|515.123.4567|2003-06-17|AD_PRES|24000.0|          null|      null|      Executive|       100|       1700|\n",
      "|           90|        101|     Neena|  Kochhar|NKOCHHAR|515.123.4568|2005-09-21|  AD_VP|17000.0|          null|       100|      Executive|       100|       1700|\n",
      "|           90|        102|       Lex|  De Haan| LDEHAAN|515.123.4569|2001-01-13|  AD_VP|17000.0|          null|       100|      Executive|       100|       1700|\n",
      "|           60|        103| Alexander|   Hunold| AHUNOLD|590.423.4567|2006-01-03|IT_PROG| 9000.0|          null|       102|             IT|       103|       1400|\n",
      "|           60|        104|     Bruce|    Ernst|  BERNST|590.423.4568|2007-05-21|IT_PROG| 6000.0|          null|       103|             IT|       103|       1400|\n",
      "+-------------+-----------+----------+---------+--------+------------+----------+-------+-------+--------------+----------+---------------+----------+-----------+\n",
      "only showing top 5 rows\n",
      "\n"
     ]
    }
   ],
   "source": [
    "empdept = emp.join(dept, 'DEPARTMENT_ID', 'inner')\n",
    "empdept.show(5)"
   ]
  },
  {
   "cell_type": "markdown",
   "id": "1d71f246-1181-4113-8d0b-1c45da2ed888",
   "metadata": {},
   "source": [
    "### 외부조인\n",
    "* full, left, right"
   ]
  },
  {
   "cell_type": "code",
   "execution_count": 19,
   "id": "41e9d3bc-2d0d-459e-93da-2428eb3b0fc4",
   "metadata": {
    "collapsed": true,
    "jupyter": {
     "outputs_hidden": true
    }
   },
   "outputs": [
    {
     "name": "stdout",
     "output_type": "stream",
     "text": [
      "+-------------+-----------+-----------+-----------+--------+------------------+----------+----------+-------+--------------+----------+--------------------+----------+-----------+\n",
      "|DEPARTMENT_ID|EMPLOYEE_ID| FIRST_NAME|  LAST_NAME|   EMAIL|      PHONE_NUMBER| HIRE_DATE|    JOB_ID| SALARY|COMMISSION_PCT|MANAGER_ID|     DEPARTMENT_NAME|MANAGER_ID|LOCATION_ID|\n",
      "+-------------+-----------+-----------+-----------+--------+------------------+----------+----------+-------+--------------+----------+--------------------+----------+-----------+\n",
      "|         null|        178|  Kimberely|      Grant|  KGRANT|011.44.1644.429263|2007-05-24|    SA_REP| 7000.0|          0.15|       149|                null|      null|       null|\n",
      "|           10|        200|   Jennifer|     Whalen| JWHALEN|      515.123.4444|2003-09-17|   AD_ASST| 4400.0|          null|       101|      Administration|       200|       1700|\n",
      "|           20|        201|    Michael|  Hartstein|MHARTSTE|      515.123.5555|2004-02-17|    MK_MAN|13000.0|          null|       100|           Marketing|       201|       1800|\n",
      "|           20|        202|        Pat|        Fay|    PFAY|      603.123.6666|2005-08-17|    MK_REP| 6000.0|          null|       201|           Marketing|       201|       1800|\n",
      "|           30|        114|        Den|   Raphaely|DRAPHEAL|      515.127.4561|2002-12-07|    PU_MAN|11000.0|          null|       100|          Purchasing|       114|       1700|\n",
      "|           30|        115|  Alexander|       Khoo|   AKHOO|      515.127.4562|2003-05-18|  PU_CLERK| 3100.0|          null|       114|          Purchasing|       114|       1700|\n",
      "|           30|        116|     Shelli|      Baida|  SBAIDA|      515.127.4563|2005-12-24|  PU_CLERK| 2900.0|          null|       114|          Purchasing|       114|       1700|\n",
      "|           30|        117|      Sigal|     Tobias| STOBIAS|      515.127.4564|2005-07-24|  PU_CLERK| 2800.0|          null|       114|          Purchasing|       114|       1700|\n",
      "|           30|        118|        Guy|     Himuro| GHIMURO|      515.127.4565|2006-11-15|  PU_CLERK| 2600.0|          null|       114|          Purchasing|       114|       1700|\n",
      "|           30|        119|      Karen| Colmenares|KCOLMENA|      515.127.4566|2007-08-10|  PU_CLERK| 2500.0|          null|       114|          Purchasing|       114|       1700|\n",
      "|           40|        203|      Susan|     Mavris| SMAVRIS|      515.123.7777|2002-06-07|    HR_REP| 6500.0|          null|       101|     Human Resources|       203|       2400|\n",
      "|           50|        120|    Matthew|      Weiss|  MWEISS|      650.123.1234|2004-07-18|    ST_MAN| 8000.0|          null|       100|            Shipping|       121|       1500|\n",
      "|           50|        121|       Adam|      Fripp|  AFRIPP|      650.123.2234|2005-04-10|    ST_MAN| 8200.0|          null|       100|            Shipping|       121|       1500|\n",
      "|           50|        122|      Payam|   Kaufling|PKAUFLIN|      650.123.3234|2003-05-01|    ST_MAN| 7900.0|          null|       100|            Shipping|       121|       1500|\n",
      "|           50|        123|     Shanta|    Vollman|SVOLLMAN|      650.123.4234|2005-10-10|    ST_MAN| 6500.0|          null|       100|            Shipping|       121|       1500|\n",
      "|           50|        124|      Kevin|    Mourgos|KMOURGOS|      650.123.5234|2007-11-16|    ST_MAN| 5800.0|          null|       100|            Shipping|       121|       1500|\n",
      "|           50|        125|      Julia|      Nayer|  JNAYER|      650.124.1214|2005-07-16|  ST_CLERK| 3200.0|          null|       120|            Shipping|       121|       1500|\n",
      "|           50|        126|      Irene|Mikkilineni|IMIKKILI|      650.124.1224|2006-09-28|  ST_CLERK| 2700.0|          null|       120|            Shipping|       121|       1500|\n",
      "|           50|        127|      James|     Landry| JLANDRY|      650.124.1334|2007-01-14|  ST_CLERK| 2400.0|          null|       120|            Shipping|       121|       1500|\n",
      "|           50|        128|     Steven|     Markle| SMARKLE|      650.124.1434|2008-03-08|  ST_CLERK| 2200.0|          null|       120|            Shipping|       121|       1500|\n",
      "|           50|        129|      Laura|     Bissot| LBISSOT|      650.124.5234|2005-08-20|  ST_CLERK| 3300.0|          null|       121|            Shipping|       121|       1500|\n",
      "|           50|        130|      Mozhe|   Atkinson|MATKINSO|      650.124.6234|2005-10-30|  ST_CLERK| 2800.0|          null|       121|            Shipping|       121|       1500|\n",
      "|           50|        131|      James|     Marlow| JAMRLOW|      650.124.7234|2005-02-16|  ST_CLERK| 2500.0|          null|       121|            Shipping|       121|       1500|\n",
      "|           50|        132|         TJ|      Olson| TJOLSON|      650.124.8234|2007-04-10|  ST_CLERK| 2100.0|          null|       121|            Shipping|       121|       1500|\n",
      "|           50|        133|      Jason|     Mallin| JMALLIN|      650.127.1934|2004-06-14|  ST_CLERK| 3300.0|          null|       122|            Shipping|       121|       1500|\n",
      "|           50|        134|    Michael|     Rogers| MROGERS|      650.127.1834|2006-08-26|  ST_CLERK| 2900.0|          null|       122|            Shipping|       121|       1500|\n",
      "|           50|        135|         Ki|        Gee|    KGEE|      650.127.1734|2007-12-12|  ST_CLERK| 2400.0|          null|       122|            Shipping|       121|       1500|\n",
      "|           50|        136|      Hazel| Philtanker|HPHILTAN|      650.127.1634|2008-02-06|  ST_CLERK| 2200.0|          null|       122|            Shipping|       121|       1500|\n",
      "|           50|        137|     Renske|     Ladwig| RLADWIG|      650.121.1234|2003-07-14|  ST_CLERK| 3600.0|          null|       123|            Shipping|       121|       1500|\n",
      "|           50|        138|    Stephen|     Stiles| SSTILES|      650.121.2034|2005-10-26|  ST_CLERK| 3200.0|          null|       123|            Shipping|       121|       1500|\n",
      "|           50|        139|       John|        Seo|    JSEO|      650.121.2019|2006-02-12|  ST_CLERK| 2700.0|          null|       123|            Shipping|       121|       1500|\n",
      "|           50|        140|     Joshua|      Patel|  JPATEL|      650.121.1834|2006-04-06|  ST_CLERK| 2500.0|          null|       123|            Shipping|       121|       1500|\n",
      "|           50|        141|     Trenna|       Rajs|   TRAJS|      650.121.8009|2003-10-17|  ST_CLERK| 3500.0|          null|       124|            Shipping|       121|       1500|\n",
      "|           50|        142|     Curtis|     Davies| CDAVIES|      650.121.2994|2005-01-29|  ST_CLERK| 3100.0|          null|       124|            Shipping|       121|       1500|\n",
      "|           50|        143|    Randall|      Matos|  RMATOS|      650.121.2874|2006-03-15|  ST_CLERK| 2600.0|          null|       124|            Shipping|       121|       1500|\n",
      "|           50|        144|      Peter|     Vargas| PVARGAS|      650.121.2004|2006-07-09|  ST_CLERK| 2500.0|          null|       124|            Shipping|       121|       1500|\n",
      "|           50|        180|    Winston|     Taylor| WTAYLOR|      650.507.9876|2006-01-24|  SH_CLERK| 3200.0|          null|       120|            Shipping|       121|       1500|\n",
      "|           50|        181|       Jean|     Fleaur| JFLEAUR|      650.507.9877|2006-02-23|  SH_CLERK| 3100.0|          null|       120|            Shipping|       121|       1500|\n",
      "|           50|        182|     Martha|   Sullivan|MSULLIVA|      650.507.9878|2007-06-21|  SH_CLERK| 2500.0|          null|       120|            Shipping|       121|       1500|\n",
      "|           50|        183|     Girard|      Geoni|  GGEONI|      650.507.9879|2008-02-03|  SH_CLERK| 2800.0|          null|       120|            Shipping|       121|       1500|\n",
      "|           50|        184|    Nandita|   Sarchand|NSARCHAN|      650.509.1876|2004-01-27|  SH_CLERK| 4200.0|          null|       121|            Shipping|       121|       1500|\n",
      "|           50|        185|     Alexis|       Bull|   ABULL|      650.509.2876|2005-02-20|  SH_CLERK| 4100.0|          null|       121|            Shipping|       121|       1500|\n",
      "|           50|        186|      Julia|  Dellinger|JDELLING|      650.509.3876|2006-06-24|  SH_CLERK| 3400.0|          null|       121|            Shipping|       121|       1500|\n",
      "|           50|        187|    Anthony|     Cabrio| ACABRIO|      650.509.4876|2007-02-07|  SH_CLERK| 3000.0|          null|       121|            Shipping|       121|       1500|\n",
      "|           50|        188|      Kelly|      Chung|  KCHUNG|      650.505.1876|2005-06-14|  SH_CLERK| 3800.0|          null|       122|            Shipping|       121|       1500|\n",
      "|           50|        189|   Jennifer|      Dilly|  JDILLY|      650.505.2876|2005-08-13|  SH_CLERK| 3600.0|          null|       122|            Shipping|       121|       1500|\n",
      "|           50|        190|    Timothy|      Gates|  TGATES|      650.505.3876|2006-07-11|  SH_CLERK| 2900.0|          null|       122|            Shipping|       121|       1500|\n",
      "|           50|        191|    Randall|    Perkins|RPERKINS|      650.505.4876|2007-12-19|  SH_CLERK| 2500.0|          null|       122|            Shipping|       121|       1500|\n",
      "|           50|        192|      Sarah|       Bell|   SBELL|      650.501.1876|2004-02-04|  SH_CLERK| 4000.0|          null|       123|            Shipping|       121|       1500|\n",
      "|           50|        193|    Britney|    Everett|BEVERETT|      650.501.2876|2005-03-03|  SH_CLERK| 3900.0|          null|       123|            Shipping|       121|       1500|\n",
      "|           50|        194|     Samuel|     McCain| SMCCAIN|      650.501.3876|2006-07-01|  SH_CLERK| 3200.0|          null|       123|            Shipping|       121|       1500|\n",
      "|           50|        195|      Vance|      Jones|  VJONES|      650.501.4876|2007-03-17|  SH_CLERK| 2800.0|          null|       123|            Shipping|       121|       1500|\n",
      "|           50|        196|      Alana|      Walsh|  AWALSH|      650.507.9811|2006-04-24|  SH_CLERK| 3100.0|          null|       124|            Shipping|       121|       1500|\n",
      "|           50|        197|      Kevin|     Feeney| KFEENEY|      650.507.9822|2006-05-23|  SH_CLERK| 3000.0|          null|       124|            Shipping|       121|       1500|\n",
      "|           50|        198|     Donald|   OConnell|DOCONNEL|      650.507.9833|2007-06-21|  SH_CLERK| 2600.0|          null|       124|            Shipping|       121|       1500|\n",
      "|           50|        199|    Douglas|      Grant|  DGRANT|      650.507.9844|2008-01-13|  SH_CLERK| 2600.0|          null|       124|            Shipping|       121|       1500|\n",
      "|           60|        103|  Alexander|     Hunold| AHUNOLD|      590.423.4567|2006-01-03|   IT_PROG| 9000.0|          null|       102|                  IT|       103|       1400|\n",
      "|           60|        104|      Bruce|      Ernst|  BERNST|      590.423.4568|2007-05-21|   IT_PROG| 6000.0|          null|       103|                  IT|       103|       1400|\n",
      "|           60|        105|      David|     Austin| DAUSTIN|      590.423.4569|2005-06-25|   IT_PROG| 4800.0|          null|       103|                  IT|       103|       1400|\n",
      "|           60|        106|      Valli|  Pataballa|VPATABAL|      590.423.4560|2006-02-05|   IT_PROG| 4800.0|          null|       103|                  IT|       103|       1400|\n",
      "|           60|        107|      Diana|    Lorentz|DLORENTZ|      590.423.5567|2007-02-07|   IT_PROG| 4200.0|          null|       103|                  IT|       103|       1400|\n",
      "|           70|        204|    Hermann|       Baer|   HBAER|      515.123.8888|2002-06-07|    PR_REP|10000.0|          null|       101|    Public Relations|       204|       2700|\n",
      "|           80|        145|       John|    Russell| JRUSSEL|011.44.1344.429268|2004-10-01|    SA_MAN|14000.0|           0.4|       100|               Sales|       145|       2500|\n",
      "|           80|        146|      Karen|   Partners|KPARTNER|011.44.1344.467268|2005-01-05|    SA_MAN|13500.0|           0.3|       100|               Sales|       145|       2500|\n",
      "|           80|        147|    Alberto|  Errazuriz|AERRAZUR|011.44.1344.429278|2005-03-10|    SA_MAN|12000.0|           0.3|       100|               Sales|       145|       2500|\n",
      "|           80|        148|     Gerald|  Cambrault|GCAMBRAU|011.44.1344.619268|2007-10-15|    SA_MAN|11000.0|           0.3|       100|               Sales|       145|       2500|\n",
      "|           80|        149|      Eleni|    Zlotkey|EZLOTKEY|011.44.1344.429018|2008-01-29|    SA_MAN|10500.0|           0.2|       100|               Sales|       145|       2500|\n",
      "|           80|        150|      Peter|     Tucker| PTUCKER|011.44.1344.129268|2005-01-30|    SA_REP|10000.0|           0.3|       145|               Sales|       145|       2500|\n",
      "|           80|        151|      David|  Bernstein|DBERNSTE|011.44.1344.345268|2005-03-24|    SA_REP| 9500.0|          0.25|       145|               Sales|       145|       2500|\n",
      "|           80|        152|      Peter|       Hall|   PHALL|011.44.1344.478968|2005-08-20|    SA_REP| 9000.0|          0.25|       145|               Sales|       145|       2500|\n",
      "|           80|        153|Christopher|      Olsen|  COLSEN|011.44.1344.498718|2006-03-30|    SA_REP| 8000.0|           0.2|       145|               Sales|       145|       2500|\n",
      "|           80|        154|    Nanette|  Cambrault|NCAMBRAU|011.44.1344.987668|2006-12-09|    SA_REP| 7500.0|           0.2|       145|               Sales|       145|       2500|\n",
      "|           80|        155|     Oliver|    Tuvault|OTUVAULT|011.44.1344.486508|2007-11-23|    SA_REP| 7000.0|          0.15|       145|               Sales|       145|       2500|\n",
      "|           80|        156|    Janette|       King|   JKING|011.44.1345.429268|2004-01-30|    SA_REP|10000.0|          0.35|       146|               Sales|       145|       2500|\n",
      "|           80|        157|    Patrick|      Sully|  PSULLY|011.44.1345.929268|2004-03-04|    SA_REP| 9500.0|          0.35|       146|               Sales|       145|       2500|\n",
      "|           80|        158|      Allan|     McEwen| AMCEWEN|011.44.1345.829268|2004-08-01|    SA_REP| 9000.0|          0.35|       146|               Sales|       145|       2500|\n",
      "|           80|        159|    Lindsey|      Smith|  LSMITH|011.44.1345.729268|2005-03-10|    SA_REP| 8000.0|           0.3|       146|               Sales|       145|       2500|\n",
      "|           80|        160|     Louise|      Doran|  LDORAN|011.44.1345.629268|2005-12-15|    SA_REP| 7500.0|           0.3|       146|               Sales|       145|       2500|\n",
      "|           80|        161|     Sarath|     Sewall| SSEWALL|011.44.1345.529268|2006-11-03|    SA_REP| 7000.0|          0.25|       146|               Sales|       145|       2500|\n",
      "|           80|        162|      Clara|    Vishney|CVISHNEY|011.44.1346.129268|2005-11-11|    SA_REP|10500.0|          0.25|       147|               Sales|       145|       2500|\n",
      "|           80|        163|   Danielle|     Greene| DGREENE|011.44.1346.229268|2007-03-19|    SA_REP| 9500.0|          0.15|       147|               Sales|       145|       2500|\n",
      "|           80|        164|     Mattea|    Marvins|MMARVINS|011.44.1346.329268|2008-01-24|    SA_REP| 7200.0|           0.1|       147|               Sales|       145|       2500|\n",
      "|           80|        165|      David|        Lee|    DLEE|011.44.1346.529268|2008-02-23|    SA_REP| 6800.0|           0.1|       147|               Sales|       145|       2500|\n",
      "|           80|        166|     Sundar|       Ande|   SANDE|011.44.1346.629268|2008-03-24|    SA_REP| 6400.0|           0.1|       147|               Sales|       145|       2500|\n",
      "|           80|        167|       Amit|      Banda|  ABANDA|011.44.1346.729268|2008-04-21|    SA_REP| 6200.0|           0.1|       147|               Sales|       145|       2500|\n",
      "|           80|        168|       Lisa|       Ozer|   LOZER|011.44.1343.929268|2005-03-11|    SA_REP|11500.0|          0.25|       148|               Sales|       145|       2500|\n",
      "|           80|        169|   Harrison|      Bloom|  HBLOOM|011.44.1343.829268|2006-03-23|    SA_REP|10000.0|           0.2|       148|               Sales|       145|       2500|\n",
      "|           80|        170|     Tayler|        Fox|    TFOX|011.44.1343.729268|2006-01-24|    SA_REP| 9600.0|           0.2|       148|               Sales|       145|       2500|\n",
      "|           80|        171|    William|      Smith|  WSMITH|011.44.1343.629268|2007-02-23|    SA_REP| 7400.0|          0.15|       148|               Sales|       145|       2500|\n",
      "|           80|        172|  Elizabeth|      Bates|  EBATES|011.44.1343.529268|2007-03-24|    SA_REP| 7300.0|          0.15|       148|               Sales|       145|       2500|\n",
      "|           80|        173|    Sundita|      Kumar|  SKUMAR|011.44.1343.329268|2008-04-21|    SA_REP| 6100.0|           0.1|       148|               Sales|       145|       2500|\n",
      "|           80|        174|      Ellen|       Abel|   EABEL|011.44.1644.429267|2004-05-11|    SA_REP|11000.0|           0.3|       149|               Sales|       145|       2500|\n",
      "|           80|        175|     Alyssa|     Hutton| AHUTTON|011.44.1644.429266|2005-03-19|    SA_REP| 8800.0|          0.25|       149|               Sales|       145|       2500|\n",
      "|           80|        176|   Jonathon|     Taylor| JTAYLOR|011.44.1644.429265|2006-03-24|    SA_REP| 8600.0|           0.2|       149|               Sales|       145|       2500|\n",
      "|           80|        177|       Jack| Livingston|JLIVINGS|011.44.1644.429264|2006-04-23|    SA_REP| 8400.0|           0.2|       149|               Sales|       145|       2500|\n",
      "|           80|        179|    Charles|    Johnson|CJOHNSON|011.44.1644.429262|2008-01-04|    SA_REP| 6200.0|           0.1|       149|               Sales|       145|       2500|\n",
      "|           90|        100|     Steven|       King|   SKING|      515.123.4567|2003-06-17|   AD_PRES|24000.0|          null|      null|           Executive|       100|       1700|\n",
      "|           90|        101|      Neena|    Kochhar|NKOCHHAR|      515.123.4568|2005-09-21|     AD_VP|17000.0|          null|       100|           Executive|       100|       1700|\n",
      "|           90|        102|        Lex|    De Haan| LDEHAAN|      515.123.4569|2001-01-13|     AD_VP|17000.0|          null|       100|           Executive|       100|       1700|\n",
      "|          100|        108|      Nancy|  Greenberg|NGREENBE|      515.124.4569|2002-08-17|    FI_MGR|12008.0|          null|       101|             Finance|       108|       1700|\n",
      "|          100|        109|     Daniel|     Faviet| DFAVIET|      515.124.4169|2002-08-16|FI_ACCOUNT| 9000.0|          null|       108|             Finance|       108|       1700|\n",
      "|          100|        110|       John|       Chen|   JCHEN|      515.124.4269|2005-09-28|FI_ACCOUNT| 8200.0|          null|       108|             Finance|       108|       1700|\n",
      "|          100|        111|     Ismael|    Sciarra|ISCIARRA|      515.124.4369|2005-09-30|FI_ACCOUNT| 7700.0|          null|       108|             Finance|       108|       1700|\n",
      "|          100|        112|Jose Manuel|      Urman| JMURMAN|      515.124.4469|2006-03-07|FI_ACCOUNT| 7800.0|          null|       108|             Finance|       108|       1700|\n",
      "|          100|        113|       Luis|       Popp|   LPOPP|      515.124.4567|2007-12-07|FI_ACCOUNT| 6900.0|          null|       108|             Finance|       108|       1700|\n",
      "|          110|        205|    Shelley|    Higgins|SHIGGINS|      515.123.8080|2002-06-07|    AC_MGR|12008.0|          null|       101|          Accounting|       205|       1700|\n",
      "|          110|        206|    William|      Gietz|  WGIETZ|      515.123.8181|2002-06-07|AC_ACCOUNT| 8300.0|          null|       205|          Accounting|       205|       1700|\n",
      "|          120|       null|       null|       null|    null|              null|      null|      null|   null|          null|      null|            Treasury|      null|       1700|\n",
      "|          130|       null|       null|       null|    null|              null|      null|      null|   null|          null|      null|       Corporate Tax|      null|       1700|\n",
      "|          140|       null|       null|       null|    null|              null|      null|      null|   null|          null|      null|  Control And Credit|      null|       1700|\n",
      "|          150|       null|       null|       null|    null|              null|      null|      null|   null|          null|      null|Shareholder Services|      null|       1700|\n",
      "|          160|       null|       null|       null|    null|              null|      null|      null|   null|          null|      null|            Benefits|      null|       1700|\n",
      "|          170|       null|       null|       null|    null|              null|      null|      null|   null|          null|      null|       Manufacturing|      null|       1700|\n",
      "|          180|       null|       null|       null|    null|              null|      null|      null|   null|          null|      null|        Construction|      null|       1700|\n",
      "|          190|       null|       null|       null|    null|              null|      null|      null|   null|          null|      null|         Contracting|      null|       1700|\n",
      "|          200|       null|       null|       null|    null|              null|      null|      null|   null|          null|      null|          Operations|      null|       1700|\n",
      "|          210|       null|       null|       null|    null|              null|      null|      null|   null|          null|      null|          IT Support|      null|       1700|\n",
      "|          220|       null|       null|       null|    null|              null|      null|      null|   null|          null|      null|                 NOC|      null|       1700|\n",
      "|          230|       null|       null|       null|    null|              null|      null|      null|   null|          null|      null|         IT Helpdesk|      null|       1700|\n",
      "|          240|       null|       null|       null|    null|              null|      null|      null|   null|          null|      null|    Government Sales|      null|       1700|\n",
      "|          250|       null|       null|       null|    null|              null|      null|      null|   null|          null|      null|        Retail Sales|      null|       1700|\n",
      "|          260|       null|       null|       null|    null|              null|      null|      null|   null|          null|      null|          Recruiting|      null|       1700|\n",
      "|          270|       null|       null|       null|    null|              null|      null|      null|   null|          null|      null|             Payroll|      null|       1700|\n",
      "+-------------+-----------+-----------+-----------+--------+------------------+----------+----------+-------+--------------+----------+--------------------+----------+-----------+\n",
      "\n"
     ]
    }
   ],
   "source": [
    "empdept2 = emp.join(dept, 'DEPARTMENT_ID','outer')\n",
    "empdept2.show(150)"
   ]
  },
  {
   "cell_type": "code",
   "execution_count": null,
   "id": "b08fa0b3-3f4a-430b-a1bc-19b3d6dd29e6",
   "metadata": {},
   "outputs": [],
   "source": [
    "# 사원이 한명도 없는 부서를 조회 ## sql 상에서 아래와 같이 입력\n",
    "#select * from emp e outer join dept d\n",
    "#using DEPARTMENT_ID where e.FIRST_NAME is null"
   ]
  },
  {
   "cell_type": "code",
   "execution_count": 9,
   "id": "199356d1-b26f-4d52-9db5-a29a0af751c2",
   "metadata": {},
   "outputs": [],
   "source": [
    "import pyspark.sql.functions as F"
   ]
  },
  {
   "cell_type": "code",
   "execution_count": 14,
   "id": "202f1f82-5648-449f-b332-3d911322ffe1",
   "metadata": {},
   "outputs": [
    {
     "name": "stdout",
     "output_type": "stream",
     "text": [
      "+-------------+\n",
      "|DEPARTMENT_ID|\n",
      "+-------------+\n",
      "|         null|\n",
      "|           10|\n",
      "|           20|\n",
      "|           30|\n",
      "|           40|\n",
      "|           50|\n",
      "|           60|\n",
      "|           70|\n",
      "|           80|\n",
      "|           90|\n",
      "|          100|\n",
      "|          110|\n",
      "+-------------+\n",
      "\n"
     ]
    }
   ],
   "source": [
    "emp.select('DEPARTMENT_ID').distinct().orderBy('DEPARTMENT_ID').show()"
   ]
  },
  {
   "cell_type": "code",
   "execution_count": 15,
   "id": "07464a98-3122-4d2b-98eb-336eec36019e",
   "metadata": {},
   "outputs": [
    {
     "name": "stdout",
     "output_type": "stream",
     "text": [
      "+-------------+\n",
      "|DEPARTMENT_ID|\n",
      "+-------------+\n",
      "|           10|\n",
      "|           20|\n",
      "|           30|\n",
      "|           40|\n",
      "|           50|\n",
      "|           60|\n",
      "|           70|\n",
      "|           80|\n",
      "|           90|\n",
      "|          100|\n",
      "|          110|\n",
      "|          120|\n",
      "|          130|\n",
      "|          140|\n",
      "|          150|\n",
      "|          160|\n",
      "|          170|\n",
      "|          180|\n",
      "|          190|\n",
      "|          200|\n",
      "+-------------+\n",
      "only showing top 20 rows\n",
      "\n"
     ]
    }
   ],
   "source": [
    "dept.select('DEPARTMENT_ID').distinct().orderBy('DEPARTMENT_ID').show()"
   ]
  },
  {
   "cell_type": "code",
   "execution_count": 18,
   "id": "c00f5bc8-af7f-45fb-9c5b-68b90a1ec674",
   "metadata": {},
   "outputs": [
    {
     "name": "stdout",
     "output_type": "stream",
     "text": [
      "+-------------+--------------------+\n",
      "|DEPARTMENT_ID|     DEPARTMENT_NAME|\n",
      "+-------------+--------------------+\n",
      "|          120|            Treasury|\n",
      "|          130|       Corporate Tax|\n",
      "|          140|  Control And Credit|\n",
      "|          150|Shareholder Services|\n",
      "|          160|            Benefits|\n",
      "|          170|       Manufacturing|\n",
      "|          180|        Construction|\n",
      "|          190|         Contracting|\n",
      "|          200|          Operations|\n",
      "|          210|          IT Support|\n",
      "|          220|                 NOC|\n",
      "|          230|         IT Helpdesk|\n",
      "|          240|    Government Sales|\n",
      "|          250|        Retail Sales|\n",
      "|          260|          Recruiting|\n",
      "|          270|             Payroll|\n",
      "+-------------+--------------------+\n",
      "\n"
     ]
    }
   ],
   "source": [
    "empdept2.where(empdept2.FIRST_NAME.isNull()).select('DEPARTMENT_ID','DEPARTMENT_NAME').show()"
   ]
  },
  {
   "cell_type": "code",
   "execution_count": null,
   "id": "08588be6-b0b3-4a9f-824d-01ef63024a7a",
   "metadata": {},
   "outputs": [],
   "source": []
  },
  {
   "cell_type": "code",
   "execution_count": null,
   "id": "ede84e36-a883-411e-a269-e3a8c05ceacc",
   "metadata": {},
   "outputs": [],
   "source": [
    "# 부서에 소속되지 않은 사원을 조회\n",
    "#select * from emp e outer join dept d\n",
    "#using DEPARTMENT_ID where DEPARTMENT_ID is null\n"
   ]
  },
  {
   "cell_type": "code",
   "execution_count": 20,
   "id": "11707b85-aad6-4507-8e29-cc1a5144c1ae",
   "metadata": {},
   "outputs": [
    {
     "name": "stdout",
     "output_type": "stream",
     "text": [
      "+----------+---------+\n",
      "|FIRST_NAME|LAST_NAME|\n",
      "+----------+---------+\n",
      "| Kimberely|    Grant|\n",
      "+----------+---------+\n",
      "\n"
     ]
    }
   ],
   "source": [
    "empdept2.where(empdept2.DEPARTMENT_ID.isNull()).select('FIRST_NAME','LAST_NAME').show(5)"
   ]
  },
  {
   "cell_type": "markdown",
   "id": "2d887875-8410-4297-b23c-a70e876da08d",
   "metadata": {},
   "source": [
    "##  예제 데이터베이스 - 고객, 주문, 제품"
   ]
  },
  {
   "cell_type": "code",
   "execution_count": 21,
   "id": "f2b504dc-6876-4447-a290-f77e9f8fa53a",
   "metadata": {},
   "outputs": [],
   "source": [
    "cust = spark.read.csv('data/Customers.csv', header = True, inferSchema=True)\n",
    "prod = spark.read.csv('data/Products.csv', header = True, inferSchema=True)\n",
    "ordr = spark.read.csv('data/Orders.csv', header = True, inferSchema=True)"
   ]
  },
  {
   "cell_type": "code",
   "execution_count": 22,
   "id": "239299b5-0d3c-4d4d-adf4-545485b8e604",
   "metadata": {},
   "outputs": [
    {
     "name": "stdout",
     "output_type": "stream",
     "text": [
      "+------+------+---+------+------+-----+\n",
      "|userid|  name|age| grade|   job|coins|\n",
      "+------+------+---+------+------+-----+\n",
      "| apple|정소화| 20|  gold|  학생| 1000|\n",
      "|banana|김선우| 25|   vip|간호사| 2500|\n",
      "|carrot|고명석| 28|  gold|  교사| 4500|\n",
      "| melon|성원용| 35|  gold|회사원| 5000|\n",
      "|orange|김용욱| 22|silver|  학생|    0|\n",
      "+------+------+---+------+------+-----+\n",
      "only showing top 5 rows\n",
      "\n"
     ]
    }
   ],
   "source": [
    "cust.show(5)"
   ]
  },
  {
   "cell_type": "code",
   "execution_count": 23,
   "id": "859932b0-38a4-46d4-b72b-982eda00df9c",
   "metadata": {},
   "outputs": [
    {
     "name": "stdout",
     "output_type": "stream",
     "text": [
      "+------+----------+-----+-----+--------+\n",
      "|prodid|  prodname|stock|price|   maker|\n",
      "+------+----------+-----+-----+--------+\n",
      "|   p01|  그냥만두| 5000| 4500|대한식품|\n",
      "|   p02|  매운쫄면| 2500| 5500|민국푸드|\n",
      "|   p03|  쿵떡파이| 3600| 2600|한빛제과|\n",
      "|   p04|맛난초콜렛| 1250| 2500|한빛제과|\n",
      "|   p05|  얼큰라면| 2200| 1200|대한식품|\n",
      "+------+----------+-----+-----+--------+\n",
      "only showing top 5 rows\n",
      "\n"
     ]
    }
   ],
   "source": [
    "prod.show(5)"
   ]
  },
  {
   "cell_type": "code",
   "execution_count": 24,
   "id": "e7160f8e-40d2-4bba-b971-22f9fddde4d1",
   "metadata": {},
   "outputs": [
    {
     "name": "stdout",
     "output_type": "stream",
     "text": [
      "+-------+------+------+------+-------------+----------+\n",
      "|orderid|userid|prodid|amount|         addr|   orddate|\n",
      "+-------+------+------+------+-------------+----------+\n",
      "|    o01| apple|   p03|    10|서울시 마포구|2013-01-01|\n",
      "|    o02| melon|   p01|     5|인천시 계양구|2013-01-10|\n",
      "|    o03|banana|   p06|    45|경기도 부천시|2013-01-11|\n",
      "|    o04|carrot|   p02|     8|부산시 금정구|2013-02-01|\n",
      "|    o05| melon|   p06|    36|경기도 용인시|2013-02-20|\n",
      "+-------+------+------+------+-------------+----------+\n",
      "only showing top 5 rows\n",
      "\n"
     ]
    }
   ],
   "source": [
    "ordr.show(5)"
   ]
  },
  {
   "cell_type": "code",
   "execution_count": 25,
   "id": "d59fd5f2-1814-48ee-aaab-19108e8ba047",
   "metadata": {},
   "outputs": [
    {
     "name": "stdout",
     "output_type": "stream",
     "text": [
      "+------+-------+------+------+-------------+----------+--------+-----+-----+--------+\n",
      "|prodid|orderid|userid|amount|         addr|   orddate|prodname|stock|price|   maker|\n",
      "+------+-------+------+------+-------------+----------+--------+-----+-----+--------+\n",
      "|   p03|    o01| apple|    10|서울시 마포구|2013-01-01|쿵떡파이| 3600| 2600|한빛제과|\n",
      "|   p01|    o02| melon|     5|인천시 계양구|2013-01-10|그냥만두| 5000| 4500|대한식품|\n",
      "|   p06|    o03|banana|    45|경기도 부천시|2013-01-11|통통우동| 1000| 1550|민국푸드|\n",
      "|   p02|    o04|carrot|     8|부산시 금정구|2013-02-01|매운쫄면| 2500| 5500|민국푸드|\n",
      "|   p06|    o05| melon|    36|경기도 용인시|2013-02-20|통통우동| 1000| 1550|민국푸드|\n",
      "+------+-------+------+------+-------------+----------+--------+-----+-----+--------+\n",
      "only showing top 5 rows\n",
      "\n"
     ]
    }
   ],
   "source": [
    "# 당근 carrot 고객이 주문한 상품의 가격은 무엇인지 조회하세요\n",
    "ordrprod = ordr.join(prod, 'prodid', 'inner')\n",
    "ordrprod.show(5)"
   ]
  },
  {
   "cell_type": "code",
   "execution_count": 26,
   "id": "fc0f0b59-afdd-4445-9d5e-c9d4c7cb15a2",
   "metadata": {},
   "outputs": [
    {
     "name": "stdout",
     "output_type": "stream",
     "text": [
      "+--------+-----+\n",
      "|prodname|price|\n",
      "+--------+-----+\n",
      "|매운쫄면| 5500|\n",
      "|쿵떡파이| 2600|\n",
      "+--------+-----+\n",
      "\n"
     ]
    }
   ],
   "source": [
    "ordrprod.where(ordrprod.userid == 'carrot')\\\n",
    "        .select('prodname','price').show()"
   ]
  },
  {
   "cell_type": "code",
   "execution_count": 31,
   "id": "9d447643-43c2-4e4a-837b-04db01951ec8",
   "metadata": {},
   "outputs": [
    {
     "name": "stdout",
     "output_type": "stream",
     "text": [
      "+------+-------+------+------+---------------+----------+------+----+------+------+-----+\n",
      "|userid|orderid|prodid|amount|           addr|   orddate|  name| age| grade|   job|coins|\n",
      "+------+-------+------+------+---------------+----------+------+----+------+------+-----+\n",
      "| apple|    o01|   p03|    10|  서울시 마포구|2013-01-01|정소화|  20|  gold|  학생| 1000|\n",
      "| apple|    o07|   p03|    22|서울시 영등포구|2013-03-15|정소화|  20|  gold|  학생| 1000|\n",
      "|banana|    o03|   p06|    45|  경기도 부천시|2013-01-11|김선우|  25|   vip|간호사| 2500|\n",
      "|banana|    o06|   p01|    19|충청북도 보은군|2013-03-02|김선우|  25|   vip|간호사| 2500|\n",
      "|banana|    o09|   p04|    15|전라남도 목포시|2013-04-11|김선우|  25|   vip|간호사| 2500|\n",
      "|carrot|    o04|   p02|     8|  부산시 금정구|2013-02-01|고명석|  28|  gold|  교사| 4500|\n",
      "|carrot|    o10|   p03|    20|  경기도 안양시|2013-05-22|고명석|  28|  gold|  교사| 4500|\n",
      "| melon|    o02|   p01|     5|  인천시 계양구|2013-01-10|성원용|  35|  gold|회사원| 5000|\n",
      "| melon|    o05|   p06|    36|  경기도 용인시|2013-02-20|성원용|  35|  gold|회사원| 5000|\n",
      "|orange|   null|  null|  null|           null|      null|김용욱|  22|silver|  학생|    0|\n",
      "| peach|   null|  null|  null|           null|      null|오형준|null|silver|  의사|  300|\n",
      "|  pear|    o08|   p02|    50|  강원도 춘천시|2013-04-10|채광주|  31|silver|회사원|  500|\n",
      "+------+-------+------+------+---------------+----------+------+----+------+------+-----+\n",
      "\n"
     ]
    }
   ],
   "source": [
    "# 주문을 한번도 하지 않은 고객의 이름, 등급을 조회하세요\n",
    "ordrcust = ordr.join(cust, 'userid', 'outer')\n",
    "ordrcust.show(20)"
   ]
  },
  {
   "cell_type": "code",
   "execution_count": 32,
   "id": "b7cb3a68-03d1-412e-af99-5cde8bb68518",
   "metadata": {},
   "outputs": [
    {
     "name": "stdout",
     "output_type": "stream",
     "text": [
      "+------+------+------+\n",
      "|userid|  name| grade|\n",
      "+------+------+------+\n",
      "|orange|김용욱|silver|\n",
      "| peach|오형준|silver|\n",
      "+------+------+------+\n",
      "\n"
     ]
    }
   ],
   "source": [
    "ordrcust.where(ordrcust.orderid.isNull())\\\n",
    "        .select('userid','name','grade').show()"
   ]
  },
  {
   "cell_type": "code",
   "execution_count": 33,
   "id": "75aa5a97-a97b-484c-bd8e-697e7f0a4632",
   "metadata": {},
   "outputs": [
    {
     "name": "stdout",
     "output_type": "stream",
     "text": [
      "+------+-------+------+------+---------------+----------+----------+-----+-----+--------+\n",
      "|prodid|orderid|userid|amount|           addr|   orddate|  prodname|stock|price|   maker|\n",
      "+------+-------+------+------+---------------+----------+----------+-----+-----+--------+\n",
      "|   p01|    o02| melon|     5|  인천시 계양구|2013-01-10|  그냥만두| 5000| 4500|대한식품|\n",
      "|   p01|    o06|banana|    19|충청북도 보은군|2013-03-02|  그냥만두| 5000| 4500|대한식품|\n",
      "|   p02|    o04|carrot|     8|  부산시 금정구|2013-02-01|  매운쫄면| 2500| 5500|민국푸드|\n",
      "|   p02|    o08|  pear|    50|  강원도 춘천시|2013-04-10|  매운쫄면| 2500| 5500|민국푸드|\n",
      "|   p03|    o01| apple|    10|  서울시 마포구|2013-01-01|  쿵떡파이| 3600| 2600|한빛제과|\n",
      "|   p03|    o07| apple|    22|서울시 영등포구|2013-03-15|  쿵떡파이| 3600| 2600|한빛제과|\n",
      "|   p03|    o10|carrot|    20|  경기도 안양시|2013-05-22|  쿵떡파이| 3600| 2600|한빛제과|\n",
      "|   p04|    o09|banana|    15|전라남도 목포시|2013-04-11|맛난초콜렛| 1250| 2500|한빛제과|\n",
      "|   p05|   null|  null|  null|           null|      null|  얼큰라면| 2200| 1200|대한식품|\n",
      "|   p06|    o03|banana|    45|  경기도 부천시|2013-01-11|  통통우동| 1000| 1550|민국푸드|\n",
      "|   p06|    o05| melon|    36|  경기도 용인시|2013-02-20|  통통우동| 1000| 1550|민국푸드|\n",
      "|   p07|   null|  null|  null|           null|      null|달콤비스켓| 1650| 1500|한빛제과|\n",
      "+------+-------+------+------+---------------+----------+----------+-----+-----+--------+\n",
      "\n"
     ]
    }
   ],
   "source": [
    "# 주문이 한번도 되지 않은 제품이름, 제조업체를 조회하세요\n",
    "ordrprod2 = ordr.join(prod, 'prodid', 'outer')\n",
    "ordrprod2.show(20)"
   ]
  },
  {
   "cell_type": "code",
   "execution_count": 34,
   "id": "12c4e52b-291b-4f28-8c59-33c55caa8103",
   "metadata": {},
   "outputs": [
    {
     "name": "stdout",
     "output_type": "stream",
     "text": [
      "+----------+--------+\n",
      "|  prodname|   maker|\n",
      "+----------+--------+\n",
      "|  얼큰라면|대한식품|\n",
      "|달콤비스켓|한빛제과|\n",
      "+----------+--------+\n",
      "\n"
     ]
    }
   ],
   "source": [
    "ordrprod2.where(ordrprod2.orderid.isNull())\\\n",
    "        .select('prodname','maker').show()"
   ]
  },
  {
   "cell_type": "code",
   "execution_count": 35,
   "id": "8c784301-e188-4a45-a946-07a4692befe4",
   "metadata": {},
   "outputs": [
    {
     "name": "stdout",
     "output_type": "stream",
     "text": [
      "+------+------+-------+------+-------------+----------+------+---+-----+------+-----+--------+-----+-----+--------+\n",
      "|prodid|userid|orderid|amount|         addr|   orddate|  name|age|grade|   job|coins|prodname|stock|price|   maker|\n",
      "+------+------+-------+------+-------------+----------+------+---+-----+------+-----+--------+-----+-----+--------+\n",
      "|   p03| apple|    o01|    10|서울시 마포구|2013-01-01|정소화| 20| gold|  학생| 1000|쿵떡파이| 3600| 2600|한빛제과|\n",
      "|   p01| melon|    o02|     5|인천시 계양구|2013-01-10|성원용| 35| gold|회사원| 5000|그냥만두| 5000| 4500|대한식품|\n",
      "|   p06|banana|    o03|    45|경기도 부천시|2013-01-11|김선우| 25|  vip|간호사| 2500|통통우동| 1000| 1550|민국푸드|\n",
      "|   p02|carrot|    o04|     8|부산시 금정구|2013-02-01|고명석| 28| gold|  교사| 4500|매운쫄면| 2500| 5500|민국푸드|\n",
      "|   p06| melon|    o05|    36|경기도 용인시|2013-02-20|성원용| 35| gold|회사원| 5000|통통우동| 1000| 1550|민국푸드|\n",
      "+------+------+-------+------+-------------+----------+------+---+-----+------+-----+--------+-----+-----+--------+\n",
      "only showing top 5 rows\n",
      "\n"
     ]
    }
   ],
   "source": [
    "# 테이블 3개 조인하기\n",
    "ordrcustprod = ordrcust.join(prod, 'prodid', 'inner')\n",
    "ordrcustprod.show(5)"
   ]
  },
  {
   "cell_type": "code",
   "execution_count": null,
   "id": "7f7832a3-d6b7-4d2a-b382-9f95e1945d03",
   "metadata": {},
   "outputs": [],
   "source": []
  },
  {
   "cell_type": "code",
   "execution_count": null,
   "id": "124fd18b-2fff-4bd3-aa6f-d839f2a35a3d",
   "metadata": {},
   "outputs": [],
   "source": []
  },
  {
   "cell_type": "code",
   "execution_count": null,
   "id": "32986fa5-2276-49e8-aa96-eb9ba5e04898",
   "metadata": {},
   "outputs": [],
   "source": []
  }
 ],
 "metadata": {
  "kernelspec": {
   "display_name": "Python 3 (ipykernel)",
   "language": "python",
   "name": "python3"
  },
  "language_info": {
   "codemirror_mode": {
    "name": "ipython",
    "version": 3
   },
   "file_extension": ".py",
   "mimetype": "text/x-python",
   "name": "python",
   "nbconvert_exporter": "python",
   "pygments_lexer": "ipython3",
   "version": "3.10.12"
  }
 },
 "nbformat": 4,
 "nbformat_minor": 5
}
